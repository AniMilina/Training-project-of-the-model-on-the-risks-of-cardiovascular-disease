{
 "cells": [
  {
   "cell_type": "markdown",
   "id": "37333473",
   "metadata": {},
   "source": [
    "## Part 4 – Prediction"
   ]
  },
  {
   "cell_type": "markdown",
   "id": "08845d6b",
   "metadata": {},
   "source": [
    "## Initial"
   ]
  },
  {
   "cell_type": "markdown",
   "id": "0fb78984",
   "metadata": {},
   "source": [
    "### Imports"
   ]
  },
  {
   "cell_type": "code",
   "execution_count": 77,
   "id": "0b653b73",
   "metadata": {},
   "outputs": [],
   "source": [
    "import pandas as pd\n",
    "import numpy as np\n",
    "\n",
    "import matplotlib.pyplot as plt\n",
    "import seaborn as sns\n",
    "from matplotlib.colors import LinearSegmentedColormap\n",
    "import plotly.graph_objects as go\n",
    "import plotly.io as pio\n",
    "\n",
    "import os\n",
    "import json\n",
    "import warnings\n",
    "from datetime import date, time, datetime\n",
    "from tqdm.notebook import tqdm\n",
    "\n",
    "from sklearn.compose import ColumnTransformer, make_column_transformer, make_column_selector\n",
    "from sklearn.preprocessing import StandardScaler, OrdinalEncoder, OneHotEncoder\n",
    "\n",
    "from sklearn.model_selection import train_test_split, cross_val_score, StratifiedKFold\n",
    "from imblearn.pipeline import Pipeline, make_pipeline\n",
    "\n",
    "from xgboost import XGBClassifier\n",
    "\n",
    "from sklearn.metrics import roc_auc_score, matthews_corrcoef, cohen_kappa_score, accuracy_score\n",
    "from sklearn.inspection import permutation_importance\n",
    "\n",
    "import optuna\n",
    "from optuna.integration import OptunaSearchCV\n",
    "from optuna.distributions import FloatDistribution, IntDistribution, CategoricalDistribution"
   ]
  },
  {
   "cell_type": "markdown",
   "id": "c9c8a3b4",
   "metadata": {},
   "source": [
    "### Constants"
   ]
  },
  {
   "cell_type": "code",
   "execution_count": 78,
   "id": "f2a23ec8",
   "metadata": {},
   "outputs": [],
   "source": [
    "#PATH_LOCAL = 'datasets/'                                           # local path to data\n",
    "#PATH_REMOTE = '/kaggle/input/yap15-heart-diseases-predictions/'    # remote path to data\n",
    "\n",
    "CR = '\\n'                                                          # new line\n",
    "RANDOM_STATE = RS = 66                                             # random_state\n",
    "N_CV = 5                                                           # num of cross-val batches\n",
    "\n",
    "VALID_FRAC = 0.1                          # размер валидационной выборки, выделяемой из обцчающей\n",
    "N_TRIALS = 1000                           # количество попыток для Optuna\n",
    "TIMEOUT = 300                             # максимальный порог времени для Optuna\n",
    "SCORING = 'roc_auc'                       # основная метрика"
   ]
  },
  {
   "cell_type": "markdown",
   "id": "9d00e7ec",
   "metadata": {},
   "source": [
    "### Functions"
   ]
  },
  {
   "cell_type": "code",
   "execution_count": 79,
   "id": "d6db7057",
   "metadata": {},
   "outputs": [],
   "source": [
    "# def custom_read_csv(file_name, separator=','):\n",
    "#     \"\"\"\n",
    "#     чтение датасета в формате CSV:\n",
    "#       сначала из локального хранилища;\n",
    "#       при неудаче — из удаленного хранилища Kaggle.\n",
    "#     \"\"\"\n",
    "\n",
    "#     path_local = f'{PATH_LOCAL}{file_name}'\n",
    "#     path_remote = f'{PATH_REMOTE}{file_name}'\n",
    "    \n",
    "#     if os.path.exists(path_local):\n",
    "#         return pd.read_csv(path_local, sep=separator)\n",
    "\n",
    "#     elif os.path.exists(path_remote):\n",
    "#         return pd.read_csv(path_remote, sep=separator)\n",
    "\n",
    "#     else:\n",
    "#         print(f'File \"{file_name}\" not found at the specified path ')"
   ]
  },
  {
   "cell_type": "code",
   "execution_count": 80,
   "id": "fc559ccc",
   "metadata": {},
   "outputs": [],
   "source": [
    "def add_model_metrics(models, X_train, Y_train, X_valid, Y_valid, cv=N_CV, scoring_list=['f1']):\n",
    "    '''\n",
    "    Принимает датафрейм со списком моделей и их характеристиками.\n",
    "    Добавляет в принятый датафрейм несколько метрик.\n",
    "    \n",
    "    :models: датафрейм с информацией об обученных моделях\n",
    "    :X_train: обучающая выборка (признаки)\n",
    "    :Y_train: обучающая выборка (целевая переменная)\n",
    "    :X_test: тестовая выборка (признаки)\n",
    "    :Y_test: тестовая выборка (целевая переменная)\n",
    "    :scoring: метрики для оценки\n",
    "    '''\n",
    "\n",
    "    for scoring in scoring_list:\n",
    "    \n",
    "        # результаты моделей на обучающей выборке (усреднение на кроссвалидации)\n",
    "        models[scoring + '_train'] = models.model.apply(\n",
    "                              lambda model: cross_val_score(model, X_train, Y_train, scoring=scoring, cv=cv, n_jobs=-1).mean())\n",
    "\n",
    "        # результаты моделей на тестовой выборке (усреднение на кроссвалидации)\n",
    "        models[scoring + '_valid'] = models.model.apply(\n",
    "                              lambda model: cross_val_score(model, X_valid, Y_valid, scoring=scoring, cv=cv, n_jobs=-1).mean())\n",
    "    \n",
    "    # ROC_AUC, коэффициент корреляции Мэтьюса, коэффициент каппа Коэна\n",
    "    models['ROC_AUC'] = models.model.apply(lambda model: roc_auc_score(Y_valid, model.predict_proba(X_valid)[:,1]))\n",
    "    models['matthews_coeff'] = models.model.apply(lambda model: matthews_corrcoef(Y_valid, model.predict(X_valid)))\n",
    "    models['cohen_kappa'] = models.model.apply(lambda model: cohen_kappa_score(Y_valid, model.predict(X_valid)))\n",
    "    \n",
    "    # оптимальные гиперпараметры\n",
    "    models['best_params'] = models.study.apply(lambda model: model.best_params)\n",
    "    \n",
    "    return models"
   ]
  },
  {
   "cell_type": "code",
   "execution_count": 81,
   "id": "a84fdd9d",
   "metadata": {},
   "outputs": [],
   "source": [
    "def plot_Optuna(study, plot_kind='plot_slice', model_name=''):\n",
    "    '''\n",
    "    Дополнительная настройка оригинальных графиков Optuna.\n",
    "    Например, на графике `plot_slice` изначально цвет точек зависел от номера итерации.\n",
    "    Теперь они все одинакового цвета и полупрозрачные, лучше видны скопления точек.\n",
    "    \n",
    "    :study: обученный объект класса OptunaSearchCV\n",
    "    :plot_kind: тип графика Optuna\n",
    "    :model_name: название модели\n",
    "    '''\n",
    "    \n",
    "    if plot_kind == 'plot_slice':\n",
    "        fig = optuna.visualization.plot_slice(study)\n",
    "        fig.update_traces(\n",
    "                          marker_color='Darkgrey',\n",
    "                          marker_size=3,\n",
    "                          marker_opacity=0.2,\n",
    "                          marker_line_width=1,\n",
    "                          marker_line_color='Black',\n",
    "                         )\n",
    "    \n",
    "    elif plot_kind == 'plot_param_importances':\n",
    "        fig = optuna.visualization.plot_param_importances(study)\n",
    "        \n",
    "    elif plot_kind == 'plot_optimization_history':\n",
    "        fig = optuna.visualization.plot_optimization_history(study)\n",
    "        fig.update_traces(\n",
    "                          marker_size=5,\n",
    "                          marker_opacity=0.3,\n",
    "                          marker_line_width=1,\n",
    "                          marker_line_color='Black',\n",
    "                         )\n",
    "\n",
    "    fig.update_layout(\n",
    "                      title_text=model_name,\n",
    "                      title_x=0,\n",
    "                      font_size=10,\n",
    "                     )    \n",
    "    fig.show()"
   ]
  },
  {
   "cell_type": "code",
   "execution_count": 82,
   "id": "7b5449e5",
   "metadata": {},
   "outputs": [],
   "source": [
    "def plot_feature_importances(chart_title, feature_names, feature_importances):\n",
    "    \"\"\"\n",
    "    Выводит график важности признаков, использованных моделью.\n",
    "    \n",
    "    :chart_title: заголовок графика\n",
    "    :feature_names: названия признаков\n",
    "    :feature_importances: важность признаков\n",
    "    \"\"\"\n",
    "    \n",
    "    fig, ax = plt.subplots(figsize=(15,5), dpi=PLOT_DPI)\n",
    "\n",
    "    df = pd.DataFrame({'features': feature_names,\n",
    "                       'importances': feature_importances.importances_mean,\n",
    "                       'std_err': feature_importances.importances_std,\n",
    "                      }).sort_values('importances', ascending=False)\n",
    "    \n",
    "    sns.barplot(\n",
    "                x=df.importances,\n",
    "                y=df.features,\n",
    "                xerr=df.std_err,\n",
    "                color='skyblue',\n",
    "               )\n",
    "    \n",
    "    ax.set_title(f'{chart_title}')\n",
    "    ax.set_xlim(-0.02,)"
   ]
  },
  {
   "cell_type": "markdown",
   "id": "c5c7e318",
   "metadata": {},
   "source": [
    "### Settings"
   ]
  },
  {
   "cell_type": "code",
   "execution_count": 83,
   "id": "5e30b600",
   "metadata": {},
   "outputs": [],
   "source": [
    "# text styles\n",
    "class f:\n",
    "    BOLD = \"\\033[1m\"\n",
    "    ITALIC = \"\\033[3m\"\n",
    "    END = \"\\033[0m\""
   ]
  },
  {
   "cell_type": "code",
   "execution_count": 84,
   "id": "8c88bf36",
   "metadata": {},
   "outputs": [],
   "source": [
    "# defaults for charts\n",
    "\n",
    "# Matplotlib, Seaborn\n",
    "PLOT_DPI = 150  # dpi for charts rendering \n",
    "sns.set_style('whitegrid', {'axes.facecolor': '0.98', 'grid.color': '0.9', 'axes.edgecolor': '1.0'})\n",
    "plt.rc(\n",
    "       'axes',\n",
    "       labelweight='bold',\n",
    "       titlesize=14,\n",
    "       titlepad=10,\n",
    "      )\n",
    "\n",
    "# Plotly Graph_Objects\n",
    "pio.templates['my_theme'] = go.layout.Template(\n",
    "                                               layout_autosize=True,\n",
    "                                               # width=900,\n",
    "                                               layout_height=200,\n",
    "                                               layout_legend_orientation=\"h\",\n",
    "                                               layout_margin=dict(t=40, b=40),         # (l=0, r=0, b=0, t=0, pad=0)\n",
    "                                               layout_template='seaborn',\n",
    "                                              )\n",
    "pio.templates.default = 'my_theme'\n",
    "\n",
    "# colors and maps\n",
    "SYMMETRIC_CMAP = LinearSegmentedColormap.from_list('', ['steelblue', 'aliceblue', 'steelblue'])"
   ]
  },
  {
   "cell_type": "code",
   "execution_count": 85,
   "id": "0b4f2f3c",
   "metadata": {},
   "outputs": [],
   "source": [
    "# Pandas defaults\n",
    "pd.options.display.max_colwidth = 100\n",
    "pd.options.display.max_rows = 500\n",
    "pd.options.display.max_columns = 100\n",
    "pd.options.display.float_format = '{:.3f}'.format\n",
    "pd.options.display.colheader_justify = 'left'"
   ]
  },
  {
   "cell_type": "code",
   "execution_count": 86,
   "id": "d69ef16b",
   "metadata": {},
   "outputs": [],
   "source": [
    "# оформление Optuna\n",
    "optuna.logging.set_verbosity(optuna.logging.WARNING)  # отключение вывода логов при работе optuna"
   ]
  },
  {
   "cell_type": "code",
   "execution_count": 87,
   "id": "e05120f6",
   "metadata": {},
   "outputs": [],
   "source": [
    "# others\n",
    "warnings.filterwarnings('ignore')"
   ]
  },
  {
   "cell_type": "markdown",
   "id": "b1147981",
   "metadata": {},
   "source": [
    "## Read Data"
   ]
  },
  {
   "cell_type": "code",
   "execution_count": 88,
   "id": "6b4b5711",
   "metadata": {},
   "outputs": [],
   "source": [
    "data_train = pd.read_csv('C:\\\\Users\\\\Admin\\\\Desktop\\\\DS studies\\\\Data\\\\Heart diseases\\\\PROJECT\\\\For work\\\\FE_train.csv')  # обучающая выборка после этапа EDA\n",
    "data_test = pd.read_csv('C:\\\\Users\\\\Admin\\\\Desktop\\\\DS studies\\\\Data\\\\Heart diseases\\\\PROJECT\\\\For work\\\\FE_test.csv')    # тестовая выборка после этапа EDA"
   ]
  },
  {
   "cell_type": "code",
   "execution_count": 89,
   "id": "d47538a3",
   "metadata": {},
   "outputs": [
    {
     "data": {
      "text/html": [
       "<div>\n",
       "<style scoped>\n",
       "    .dataframe tbody tr th:only-of-type {\n",
       "        vertical-align: middle;\n",
       "    }\n",
       "\n",
       "    .dataframe tbody tr th {\n",
       "        vertical-align: top;\n",
       "    }\n",
       "\n",
       "    .dataframe thead th {\n",
       "        text-align: right;\n",
       "    }\n",
       "</style>\n",
       "<table border=\"1\" class=\"dataframe\">\n",
       "  <thead>\n",
       "    <tr style=\"text-align: left;\">\n",
       "      <th></th>\n",
       "      <th>cardio</th>\n",
       "      <th>age</th>\n",
       "      <th>cholesterol</th>\n",
       "      <th>gluc</th>\n",
       "      <th>gender_aphi_bined_aplo_bined_TRG_mean</th>\n",
       "      <th>gender_age_bined_weight_bined_TRG_mean</th>\n",
       "      <th>gender_cholesterol_gluc_bmi_TRG_mean</th>\n",
       "      <th>gender_smoke_alco_active_TRG_mean</th>\n",
       "      <th>gender_height_TRG_mean</th>\n",
       "    </tr>\n",
       "  </thead>\n",
       "  <tbody>\n",
       "    <tr>\n",
       "      <th>0</th>\n",
       "      <td>0</td>\n",
       "      <td>50</td>\n",
       "      <td>1</td>\n",
       "      <td>1</td>\n",
       "      <td>0.263</td>\n",
       "      <td>0.373</td>\n",
       "      <td>0.303</td>\n",
       "      <td>0.496</td>\n",
       "      <td>0.502</td>\n",
       "    </tr>\n",
       "    <tr>\n",
       "      <th>1</th>\n",
       "      <td>1</td>\n",
       "      <td>55</td>\n",
       "      <td>3</td>\n",
       "      <td>1</td>\n",
       "      <td>0.821</td>\n",
       "      <td>0.631</td>\n",
       "      <td>1.000</td>\n",
       "      <td>0.485</td>\n",
       "      <td>0.513</td>\n",
       "    </tr>\n",
       "    <tr>\n",
       "      <th>2</th>\n",
       "      <td>1</td>\n",
       "      <td>52</td>\n",
       "      <td>3</td>\n",
       "      <td>1</td>\n",
       "      <td>0.529</td>\n",
       "      <td>0.462</td>\n",
       "      <td>0.667</td>\n",
       "      <td>0.523</td>\n",
       "      <td>0.466</td>\n",
       "    </tr>\n",
       "    <tr>\n",
       "      <th>3</th>\n",
       "      <td>1</td>\n",
       "      <td>48</td>\n",
       "      <td>1</td>\n",
       "      <td>1</td>\n",
       "      <td>0.871</td>\n",
       "      <td>0.489</td>\n",
       "      <td>0.562</td>\n",
       "      <td>0.496</td>\n",
       "      <td>0.501</td>\n",
       "    </tr>\n",
       "    <tr>\n",
       "      <th>4</th>\n",
       "      <td>0</td>\n",
       "      <td>48</td>\n",
       "      <td>1</td>\n",
       "      <td>1</td>\n",
       "      <td>0.194</td>\n",
       "      <td>0.264</td>\n",
       "      <td>0.299</td>\n",
       "      <td>0.523</td>\n",
       "      <td>0.513</td>\n",
       "    </tr>\n",
       "  </tbody>\n",
       "</table>\n",
       "</div>"
      ],
      "text/plain": [
       "   cardio  age  cholesterol  gluc  gender_aphi_bined_aplo_bined_TRG_mean  \\\n",
       "0  0       50   1            1    0.263                                    \n",
       "1  1       55   3            1    0.821                                    \n",
       "2  1       52   3            1    0.529                                    \n",
       "3  1       48   1            1    0.871                                    \n",
       "4  0       48   1            1    0.194                                    \n",
       "\n",
       "   gender_age_bined_weight_bined_TRG_mean  \\\n",
       "0 0.373                                     \n",
       "1 0.631                                     \n",
       "2 0.462                                     \n",
       "3 0.489                                     \n",
       "4 0.264                                     \n",
       "\n",
       "   gender_cholesterol_gluc_bmi_TRG_mean  gender_smoke_alco_active_TRG_mean  \\\n",
       "0 0.303                                 0.496                                \n",
       "1 1.000                                 0.485                                \n",
       "2 0.667                                 0.523                                \n",
       "3 0.562                                 0.496                                \n",
       "4 0.299                                 0.523                                \n",
       "\n",
       "   gender_height_TRG_mean  \n",
       "0 0.502                    \n",
       "1 0.513                    \n",
       "2 0.466                    \n",
       "3 0.501                    \n",
       "4 0.513                    "
      ]
     },
     "execution_count": 89,
     "metadata": {},
     "output_type": "execute_result"
    }
   ],
   "source": [
    "data_train.head()"
   ]
  },
  {
   "cell_type": "code",
   "execution_count": 90,
   "id": "084fce17",
   "metadata": {},
   "outputs": [
    {
     "data": {
      "text/plain": [
       "id                                        30000\n",
       "age                                       30000\n",
       "cholesterol                               30000\n",
       "gluc                                      30000\n",
       "gender_aphi_bined_aplo_bined_TRG_mean     30000\n",
       "gender_age_bined_weight_bined_TRG_mean    30000\n",
       "gender_cholesterol_gluc_bmi_TRG_mean      30000\n",
       "gender_smoke_alco_active_TRG_mean         30000\n",
       "gender_height_TRG_mean                    30000\n",
       "dtype: int64"
      ]
     },
     "execution_count": 90,
     "metadata": {},
     "output_type": "execute_result"
    }
   ],
   "source": [
    "data_test[data_test.notna()].count()"
   ]
  },
  {
   "cell_type": "markdown",
   "id": "f55bd75d",
   "metadata": {},
   "source": [
    "## Данные для моделей"
   ]
  },
  {
   "cell_type": "markdown",
   "id": "ddf2653a",
   "metadata": {},
   "source": [
    "### Выделение признаков и целевой переменной"
   ]
  },
  {
   "cell_type": "code",
   "execution_count": 91,
   "id": "fda8f925",
   "metadata": {},
   "outputs": [
    {
     "data": {
      "text/plain": [
       "((68753, 8), (68753,))"
      ]
     },
     "execution_count": 91,
     "metadata": {},
     "output_type": "execute_result"
    }
   ],
   "source": [
    "X = data_train.drop('cardio', axis=1)\n",
    "Y = data_train.cardio\n",
    "\n",
    "X.shape, Y.shape"
   ]
  },
  {
   "cell_type": "markdown",
   "id": "dedc669c",
   "metadata": {},
   "source": [
    "### Разделение на обучающую и валидационную выборки\n",
    "\n",
    "Валидационная выборка – часть, отрезанная от train. Нужна для локальной проверки модели."
   ]
  },
  {
   "cell_type": "code",
   "execution_count": 92,
   "id": "aa1027db",
   "metadata": {},
   "outputs": [
    {
     "data": {
      "text/plain": [
       "((61877, 8), (61877,), (6876, 8), (6876,))"
      ]
     },
     "execution_count": 92,
     "metadata": {},
     "output_type": "execute_result"
    }
   ],
   "source": [
    "X_train, X_valid, Y_train, Y_valid = train_test_split(X, Y, test_size=VALID_FRAC, stratify=Y, random_state=RS)\n",
    "\n",
    "X_train.shape, Y_train.shape, X_valid.shape, Y_valid.shape"
   ]
  },
  {
   "cell_type": "markdown",
   "id": "6ec71aec",
   "metadata": {},
   "source": [
    "## Модель"
   ]
  },
  {
   "cell_type": "markdown",
   "id": "1ab37103",
   "metadata": {},
   "source": [
    "### Preprocessing"
   ]
  },
  {
   "cell_type": "markdown",
   "id": "db8dc98b",
   "metadata": {},
   "source": [
    "#### Селекторы числовых и категориальных признаков"
   ]
  },
  {
   "cell_type": "code",
   "execution_count": 93,
   "id": "ea389671",
   "metadata": {},
   "outputs": [],
   "source": [
    "selector_num = make_column_selector(dtype_include=np.number)\n",
    "selector_cat = make_column_selector(dtype_exclude=np.number)"
   ]
  },
  {
   "cell_type": "markdown",
   "id": "eda5ba11",
   "metadata": {},
   "source": [
    "#### Предбработка числовых признаков"
   ]
  },
  {
   "cell_type": "code",
   "execution_count": 94,
   "id": "fc20f374",
   "metadata": {},
   "outputs": [],
   "source": [
    "num_preprocessor = make_pipeline(\n",
    "                                 StandardScaler(),\n",
    "#                                IterativeImputer(initial_strategy='mean', random_state=RS),  # в данных нет пропусков\n",
    "                                )"
   ]
  },
  {
   "cell_type": "markdown",
   "id": "a0570c50",
   "metadata": {},
   "source": [
    "#### Предбработка категориальных признаков"
   ]
  },
  {
   "cell_type": "markdown",
   "id": "fc3c7b96",
   "metadata": {},
   "source": [
    "Раздельно для линейных моделей и моделей на базе деревьев."
   ]
  },
  {
   "cell_type": "code",
   "execution_count": 95,
   "id": "9578d2b5",
   "metadata": {},
   "outputs": [],
   "source": [
    "# for linear models\n",
    "cat_preprocessor_linr = OneHotEncoder(sparse=False, drop='first', handle_unknown='ignore')\n",
    "\n",
    "# for tree models\n",
    "cat_preprocessor_tree = OrdinalEncoder(handle_unknown='use_encoded_value', unknown_value=999)"
   ]
  },
  {
   "cell_type": "markdown",
   "id": "8d8f47c8",
   "metadata": {},
   "source": [
    "#### Объединение предобработки"
   ]
  },
  {
   "cell_type": "code",
   "execution_count": 96,
   "id": "0876c65f",
   "metadata": {},
   "outputs": [],
   "source": [
    "# for linear models\n",
    "preprocessing_linr = make_column_transformer(\n",
    "                                             (num_preprocessor, selector_num),\n",
    "                                             (cat_preprocessor_linr, selector_cat),\n",
    "                                             remainder='passthrough'\n",
    "                                            )\n",
    "# for tree models\n",
    "preprocessing_tree = make_column_transformer(\n",
    "                                             (num_preprocessor, selector_num),\n",
    "                                             (cat_preprocessor_tree, selector_cat),\n",
    "                                             remainder='passthrough'\n",
    "                                            )"
   ]
  },
  {
   "cell_type": "markdown",
   "id": "2cc5d012",
   "metadata": {},
   "source": [
    "#### Pipelines"
   ]
  },
  {
   "cell_type": "code",
   "execution_count": 97,
   "id": "50c5edde",
   "metadata": {},
   "outputs": [
    {
     "data": {
      "text/html": [
       "<div>\n",
       "<style scoped>\n",
       "    .dataframe tbody tr th:only-of-type {\n",
       "        vertical-align: middle;\n",
       "    }\n",
       "\n",
       "    .dataframe tbody tr th {\n",
       "        vertical-align: top;\n",
       "    }\n",
       "\n",
       "    .dataframe thead th {\n",
       "        text-align: right;\n",
       "    }\n",
       "</style>\n",
       "<table border=\"1\" class=\"dataframe\">\n",
       "  <thead>\n",
       "    <tr style=\"text-align: left;\">\n",
       "      <th></th>\n",
       "      <th>name</th>\n",
       "      <th>short_name</th>\n",
       "      <th>model</th>\n",
       "    </tr>\n",
       "  </thead>\n",
       "  <tbody>\n",
       "    <tr>\n",
       "      <th>0</th>\n",
       "      <td>XGBClassifier</td>\n",
       "      <td>XGBC</td>\n",
       "      <td>(ColumnTransformer(remainder='passthrough',\\n                  transformers=[('pipeline',\\n     ...</td>\n",
       "    </tr>\n",
       "  </tbody>\n",
       "</table>\n",
       "</div>"
      ],
      "text/plain": [
       "  name           short_name  \\\n",
       "0  XGBClassifier  XGBC        \n",
       "\n",
       "  model                                                                                                 \n",
       "0  (ColumnTransformer(remainder='passthrough',\\n                  transformers=[('pipeline',\\n     ...  "
      ]
     },
     "execution_count": 97,
     "metadata": {},
     "output_type": "execute_result"
    }
   ],
   "source": [
    "pipelines_list = [\n",
    "                  Pipeline([('PT', preprocessing_tree),\n",
    "                            ('XGBC', XGBClassifier(objective='binary:logistic', eval_metric='auc', random_state=RS))\n",
    "                           ])\n",
    "                 ]\n",
    "\n",
    "names_list = ['XGBClassifier']\n",
    "short_names_list = ['XGBC']\n",
    "\n",
    "models = pd.DataFrame(\n",
    "                      data={'name': names_list,\n",
    "                            'short_name': short_names_list,\n",
    "                            'model': pipelines_list,\n",
    "                           },\n",
    "                     )\n",
    "models"
   ]
  },
  {
   "cell_type": "markdown",
   "id": "56322b8e",
   "metadata": {},
   "source": [
    "### Подбор гиперпараметров"
   ]
  },
  {
   "cell_type": "markdown",
   "id": "ede8a3e4",
   "metadata": {},
   "source": [
    "#### Objective functions для Optuna"
   ]
  },
  {
   "cell_type": "code",
   "execution_count": 98,
   "id": "e5f4e22b",
   "metadata": {},
   "outputs": [],
   "source": [
    "def objective_XGBC(trial):\n",
    "\n",
    "    params = {\n",
    "              'XGBC__max_depth': trial.suggest_int('XGBC__max_depth', 1, 20),\n",
    "              'XGBC__n_estimators': trial.suggest_int('XGBC__n_estimators', 10, 200, log=True),\n",
    "              'XGBC__subsample': trial.suggest_float('XGBC__subsample', 0.3, 1.0),\n",
    "#               'XGBC__colsample_bytree': trial.suggest_float('XGBC__colsample_bytree', 0.3, 1.0),\n",
    "              'XGBC__scale_pos_weight': trial.suggest_float('XGBC__scale_pos_weight', 0.4, 0.6),\n",
    "              'XGBC__learning_rate': trial.suggest_float('XGBC__learning_rate', 0.01, 0.99),\n",
    "              'XGBC__gamma': trial.suggest_float('XGBC__gamma', 0.1, 10, log=True),\n",
    "              'XGBC__min_child_weight': trial.suggest_float('XGBC__min_child_weight', 0.1, 10, log=True),\n",
    "              'XGBC__lambda': trial.suggest_float('XGBC__lambda', 0.1, 10, log=True),\n",
    "#               'XGBC__max_leaves': trial.suggest_int('XGBC__max_leaves', 2, 200, log=True),\n",
    "#               'XGBC__max_bin': trial.suggest_int('XGBC__max_bin', 10, 1000, log=True),\n",
    "             }\n",
    "    model.set_params(**params)\n",
    "    cv_SKF = StratifiedKFold(n_splits=N_CV)\n",
    "    \n",
    "    return cross_val_score(model, X_train, Y_train, scoring=SCORING, cv=cv_SKF, n_jobs=-1).mean()"
   ]
  },
  {
   "cell_type": "markdown",
   "id": "c3c26160",
   "metadata": {},
   "source": [
    "#### Вызов Optuna"
   ]
  },
  {
   "cell_type": "code",
   "execution_count": 99,
   "id": "dcff5041",
   "metadata": {},
   "outputs": [
    {
     "data": {
      "application/vnd.jupyter.widget-view+json": {
       "model_id": "c907c62bba1d4bfda4cc0217aba49f65",
       "version_major": 2,
       "version_minor": 0
      },
      "text/plain": [
       "  0%|          | 0/1000 [00:00<?, ?it/s]"
      ]
     },
     "metadata": {},
     "output_type": "display_data"
    },
    {
     "name": "stdout",
     "output_type": "stream",
     "text": [
      "\n",
      "\u001b[1mXGBClassifier\u001b[0m\n",
      "\n",
      "Количество попыток: 58\n",
      "Лучший результат: \u001b[1m0.8754\u001b[0m\n",
      "\n",
      "Комбинация гиперпараметров:\n",
      "{\n",
      " \"XGBC__gamma\": 4.772691009949947,\n",
      " \"XGBC__lambda\": 5.772323782205765,\n",
      " \"XGBC__learning_rate\": 0.3464577803883376,\n",
      " \"XGBC__max_depth\": 10,\n",
      " \"XGBC__min_child_weight\": 0.3049068814015964,\n",
      " \"XGBC__n_estimators\": 53,\n",
      " \"XGBC__scale_pos_weight\": 0.4320253777128134,\n",
      " \"XGBC__subsample\": 0.9349732719676106\n",
      "} \n",
      "\n"
     ]
    }
   ],
   "source": [
    "for item in range(models.shape[0]):\n",
    "    \n",
    "    model = models.loc[item,'model']\n",
    "    \n",
    "    # создание объекта optuna.study\n",
    "    study = optuna.create_study(\n",
    "                                study_name=models.loc[item,'name'],\n",
    "                                direction=\"maximize\",\n",
    "                                sampler=optuna.samplers.TPESampler(seed=RS)\n",
    "                               )\n",
    "\n",
    "    # оптимизация (подбор гиперпараметров)\n",
    "    if models.loc[item,'short_name'] == 'XGBC':\n",
    "        study.optimize(objective_XGBC, n_trials=N_TRIALS, timeout=TIMEOUT, show_progress_bar=True, n_jobs=-1)\n",
    "\n",
    "    # извлечение и обучение лучшей модели (здесь можно сделать обучение на полном наборе данных X, Y)\n",
    "    model.set_params(**study.best_params).fit(X_train, Y_train)\n",
    "\n",
    "    # сохранение результатов в таблице моделей\n",
    "    models.loc[item,'model'] = model\n",
    "    models.loc[item,'study'] = study\n",
    "    \n",
    "    print(f'{CR}{f.BOLD}{study.study_name}{f.END}{CR}')\n",
    "    print(f'Количество попыток: {len(study.trials)}')\n",
    "    print(f'Лучший результат: {f.BOLD}{study.best_value:0.4f}{f.END}{CR}')\n",
    "    print('Комбинация гиперпараметров:')\n",
    "    print(json.dumps(study.best_params, indent=1, sort_keys=True), f'{CR}')"
   ]
  },
  {
   "cell_type": "markdown",
   "id": "92e7e571",
   "metadata": {},
   "source": [
    "### Визуализация результатов подбора гиперпараметров\n",
    "\n",
    "Помогает cкорректировать процесс подбора."
   ]
  },
  {
   "cell_type": "code",
   "execution_count": 100,
   "id": "54f201e2",
   "metadata": {},
   "outputs": [
    {
     "data": {
      "application/vnd.plotly.v1+json": {
       "config": {
        "plotlyServerURL": "https://plot.ly"
       },
       "data": [
        {
         "marker": {
          "color": "Darkgrey",
          "colorbar": {
           "title": {
            "text": "Trial"
           },
           "x": 1,
           "xpad": 40
          },
          "colorscale": [
           [
            0,
            "rgb(247,251,255)"
           ],
           [
            0.125,
            "rgb(222,235,247)"
           ],
           [
            0.25,
            "rgb(198,219,239)"
           ],
           [
            0.375,
            "rgb(158,202,225)"
           ],
           [
            0.5,
            "rgb(107,174,214)"
           ],
           [
            0.625,
            "rgb(66,146,198)"
           ],
           [
            0.75,
            "rgb(33,113,181)"
           ],
           [
            0.875,
            "rgb(8,81,156)"
           ],
           [
            1,
            "rgb(8,48,107)"
           ]
          ],
          "line": {
           "color": "Black",
           "width": 1
          },
          "opacity": 0.2,
          "showscale": true,
          "size": 3
         },
         "mode": "markers",
         "showlegend": false,
         "type": "scatter",
         "x": [
          0.13011896957578734,
          5.950240958682,
          0.33323425426092473,
          3.8074269887598984,
          5.384258485573347,
          3.238158054767285,
          1.345982833253966,
          0.34389108866816803,
          0.9650557214409436,
          2.995747017448444,
          1.7269387060276793,
          1.090109443179779,
          0.20992249022398554,
          8.935584578310513,
          0.11719782943842222,
          0.15752345608722002,
          7.63647924708675,
          0.10926429997740926,
          0.1540451154953228,
          0.12072716447165285,
          0.1037966695053361,
          9.789809694342948,
          0.6185532147638038,
          0.521741891600205,
          0.5748231802182215,
          0.47682676832317966,
          0.5310730678442254,
          0.5416165135673406,
          0.4080892121176809,
          0.33147089895256054,
          0.3230227084488992,
          0.304975697520508,
          0.3000708517314514,
          0.24956132910232887,
          0.29074803551832146,
          0.29156281560798736,
          0.269335003966645,
          0.25466755894823995,
          5.412590554019367,
          4.772691009949947,
          4.586625744177914,
          4.966853958581937,
          5.362576150730888,
          5.372718642196393,
          5.37273317686377,
          4.157805867459746,
          5.493144356941177,
          4.559002774338634,
          4.707398254278289,
          4.476502866730788,
          4.232706197479412,
          4.304755670442827,
          3.574735336261229,
          2.797973215266105,
          7.044587736027974,
          3.302402590921577,
          3.038798890660055,
          3.4025981481121415
         ],
         "xaxis": "x",
         "y": [
          0.8737311495617718,
          0.8737311495617718,
          0.8737311495617718,
          0.8737311495617718,
          0.8737311495617718,
          0.8737311495617718,
          0.8737311495617718,
          0.8737311495617718,
          0.8689835633256916,
          0.8453965064335891,
          0.8713074209496533,
          0.8510477929126722,
          0.841763873146164,
          0.8729252999145831,
          0.8658891930674102,
          0.8505793338305343,
          0.8722184622340082,
          0.8734150509435599,
          0.8674804214016542,
          0.8530821013271636,
          0.840817397552413,
          0.8731502375595058,
          0.8403978846969176,
          0.8325024385578306,
          0.8659594071748931,
          0.8248910887624993,
          0.8263414094362347,
          0.8436733745426949,
          0.8367577033488635,
          0.8346293941387245,
          0.8346106117541782,
          0.8361924795341507,
          0.8390800875919091,
          0.8363687800666778,
          0.8404318178224903,
          0.8401947327582467,
          0.8480176998645652,
          0.8498359176816358,
          0.8750632853765458,
          0.8754017757741014,
          0.874250172191967,
          0.874250172191967,
          0.8720418257938298,
          0.8748404889230972,
          0.8724434157008705,
          0.872436098151461,
          0.8745598814918895,
          0.8743185132382045,
          0.8746278405196168,
          0.8737703369791443,
          0.8744076582742697,
          0.8745701206158898,
          0.8738689131830645,
          0.8733080896195892,
          0.8749563507176059,
          0.8739737160968651,
          0.8746030893793579,
          0.8750083254254732
         ],
         "yaxis": "y"
        },
        {
         "marker": {
          "color": "Darkgrey",
          "colorbar": {
           "title": {
            "text": "Trial"
           },
           "x": 1,
           "xpad": 40
          },
          "colorscale": [
           [
            0,
            "rgb(247,251,255)"
           ],
           [
            0.125,
            "rgb(222,235,247)"
           ],
           [
            0.25,
            "rgb(198,219,239)"
           ],
           [
            0.375,
            "rgb(158,202,225)"
           ],
           [
            0.5,
            "rgb(107,174,214)"
           ],
           [
            0.625,
            "rgb(66,146,198)"
           ],
           [
            0.75,
            "rgb(33,113,181)"
           ],
           [
            0.875,
            "rgb(8,81,156)"
           ],
           [
            1,
            "rgb(8,48,107)"
           ]
          ],
          "line": {
           "color": "Black",
           "width": 1
          },
          "opacity": 0.2,
          "showscale": false,
          "size": 3
         },
         "mode": "markers",
         "showlegend": false,
         "type": "scatter",
         "x": [
          2.954398844869693,
          2.121773989780582,
          0.1376536782680422,
          5.676044437710731,
          0.5697931065146105,
          1.6390859371494912,
          0.5919558858902348,
          0.627954573742244,
          0.5565900992254903,
          0.1492498918879972,
          4.565057678277336,
          1.0886822286436237,
          1.2942252391389835,
          0.20880733586490177,
          2.2894163253438458,
          0.6200611064749451,
          0.13754080950166953,
          9.761396181667966,
          2.3235825690548095,
          2.5518669646099554,
          3.0447179721452535,
          9.68683172654591,
          3.1474107188180325,
          3.3025902504210234,
          2.9067797804798396,
          3.5861488904515246,
          3.2576737299827863,
          3.4604519781351386,
          0.30676522560320973,
          0.10240173806816037,
          0.29376640110639207,
          0.2911463322272602,
          1.5189235422199838,
          0.24759654273979279,
          1.6985773933433168,
          1.5438386677386227,
          1.7259212833028414,
          1.501889810126205,
          5.437027760410291,
          5.772323782205765,
          5.171097707162097,
          5.476951699307836,
          0.8642680550390514,
          4.895957720517418,
          0.8537779449107955,
          5.048282279627815,
          5.799753059672334,
          5.613183723872548,
          5.569375942946778,
          6.232481769932818,
          5.813609656971824,
          6.355978867118382,
          6.04310874579854,
          6.273956314910568,
          7.038383527118306,
          7.035286151385899,
          7.189889604121925,
          7.290743781531812
         ],
         "xaxis": "x2",
         "y": [
          0.8737311495617718,
          0.8737311495617718,
          0.8737311495617718,
          0.8737311495617718,
          0.8737311495617718,
          0.8737311495617718,
          0.8737311495617718,
          0.8737311495617718,
          0.8689835633256916,
          0.8453965064335891,
          0.8713074209496533,
          0.8510477929126722,
          0.841763873146164,
          0.8729252999145831,
          0.8658891930674102,
          0.8505793338305343,
          0.8722184622340082,
          0.8734150509435599,
          0.8674804214016542,
          0.8530821013271636,
          0.840817397552413,
          0.8731502375595058,
          0.8403978846969176,
          0.8325024385578306,
          0.8659594071748931,
          0.8248910887624993,
          0.8263414094362347,
          0.8436733745426949,
          0.8367577033488635,
          0.8346293941387245,
          0.8346106117541782,
          0.8361924795341507,
          0.8390800875919091,
          0.8363687800666778,
          0.8404318178224903,
          0.8401947327582467,
          0.8480176998645652,
          0.8498359176816358,
          0.8750632853765458,
          0.8754017757741014,
          0.874250172191967,
          0.874250172191967,
          0.8720418257938298,
          0.8748404889230972,
          0.8724434157008705,
          0.872436098151461,
          0.8745598814918895,
          0.8743185132382045,
          0.8746278405196168,
          0.8737703369791443,
          0.8744076582742697,
          0.8745701206158898,
          0.8738689131830645,
          0.8733080896195892,
          0.8749563507176059,
          0.8739737160968651,
          0.8746030893793579,
          0.8750083254254732
         ],
         "yaxis": "y2"
        },
        {
         "marker": {
          "color": "Darkgrey",
          "colorbar": {
           "title": {
            "text": "Trial"
           },
           "x": 1,
           "xpad": 40
          },
          "colorscale": [
           [
            0,
            "rgb(247,251,255)"
           ],
           [
            0.125,
            "rgb(222,235,247)"
           ],
           [
            0.25,
            "rgb(198,219,239)"
           ],
           [
            0.375,
            "rgb(158,202,225)"
           ],
           [
            0.5,
            "rgb(107,174,214)"
           ],
           [
            0.625,
            "rgb(66,146,198)"
           ],
           [
            0.75,
            "rgb(33,113,181)"
           ],
           [
            0.875,
            "rgb(8,81,156)"
           ],
           [
            1,
            "rgb(8,48,107)"
           ]
          ],
          "line": {
           "color": "Black",
           "width": 1
          },
          "opacity": 0.2,
          "showscale": false,
          "size": 3
         },
         "mode": "markers",
         "showlegend": false,
         "type": "scatter",
         "x": [
          0.48836080587640895,
          0.3769031709708108,
          0.4728529170345143,
          0.29584281943439455,
          0.8908661311923057,
          0.8143213687676747,
          0.6894242642559469,
          0.4614848578435996,
          0.025532517195841504,
          0.7648157106603173,
          0.5116767064617775,
          0.24731220641465104,
          0.2912906665078949,
          0.6451854296539826,
          0.5402940654998833,
          0.2372213459051877,
          0.20946065069787223,
          0.6351500072021622,
          0.28092517766286934,
          0.6342762932544628,
          0.9733737711671709,
          0.9612896119664791,
          0.955521639908695,
          0.9737157722207261,
          0.4357634625157497,
          0.98007630345482,
          0.9742427680190104,
          0.4110144996993892,
          0.41203383466732363,
          0.42147125746663266,
          0.4191637708583951,
          0.3998229252206448,
          0.3894020319087873,
          0.3787438449003039,
          0.384197160045029,
          0.3698701876067312,
          0.3454237035737294,
          0.3347638024380269,
          0.3453434948601295,
          0.3464577803883376,
          0.5517770434355248,
          0.5462190186082816,
          0.5543000217103651,
          0.49240029685679093,
          0.5555695583749055,
          0.480654096067847,
          0.530017565717833,
          0.46850076282351766,
          0.48938440949236295,
          0.5012733180650019,
          0.4934910989844786,
          0.4833163171656528,
          0.48337513996403003,
          0.4957118241491085,
          0.4663673154764181,
          0.47849219290570794,
          0.5907718592007558,
          0.4572930447506997
         ],
         "xaxis": "x3",
         "y": [
          0.8737311495617718,
          0.8737311495617718,
          0.8737311495617718,
          0.8737311495617718,
          0.8737311495617718,
          0.8737311495617718,
          0.8737311495617718,
          0.8737311495617718,
          0.8689835633256916,
          0.8453965064335891,
          0.8713074209496533,
          0.8510477929126722,
          0.841763873146164,
          0.8729252999145831,
          0.8658891930674102,
          0.8505793338305343,
          0.8722184622340082,
          0.8734150509435599,
          0.8674804214016542,
          0.8530821013271636,
          0.840817397552413,
          0.8731502375595058,
          0.8403978846969176,
          0.8325024385578306,
          0.8659594071748931,
          0.8248910887624993,
          0.8263414094362347,
          0.8436733745426949,
          0.8367577033488635,
          0.8346293941387245,
          0.8346106117541782,
          0.8361924795341507,
          0.8390800875919091,
          0.8363687800666778,
          0.8404318178224903,
          0.8401947327582467,
          0.8480176998645652,
          0.8498359176816358,
          0.8750632853765458,
          0.8754017757741014,
          0.874250172191967,
          0.874250172191967,
          0.8720418257938298,
          0.8748404889230972,
          0.8724434157008705,
          0.872436098151461,
          0.8745598814918895,
          0.8743185132382045,
          0.8746278405196168,
          0.8737703369791443,
          0.8744076582742697,
          0.8745701206158898,
          0.8738689131830645,
          0.8733080896195892,
          0.8749563507176059,
          0.8739737160968651,
          0.8746030893793579,
          0.8750083254254732
         ],
         "yaxis": "y3"
        },
        {
         "marker": {
          "color": "Darkgrey",
          "colorbar": {
           "title": {
            "text": "Trial"
           },
           "x": 1,
           "xpad": 40
          },
          "colorscale": [
           [
            0,
            "rgb(247,251,255)"
           ],
           [
            0.125,
            "rgb(222,235,247)"
           ],
           [
            0.25,
            "rgb(198,219,239)"
           ],
           [
            0.375,
            "rgb(158,202,225)"
           ],
           [
            0.5,
            "rgb(107,174,214)"
           ],
           [
            0.625,
            "rgb(66,146,198)"
           ],
           [
            0.75,
            "rgb(33,113,181)"
           ],
           [
            0.875,
            "rgb(8,81,156)"
           ],
           [
            1,
            "rgb(8,48,107)"
           ]
          ],
          "line": {
           "color": "Black",
           "width": 1
          },
          "opacity": 0.2,
          "showscale": false,
          "size": 3
         },
         "mode": "markers",
         "showlegend": false,
         "type": "scatter",
         "x": [
          15,
          18,
          14,
          10,
          20,
          18,
          10,
          7,
          15,
          16,
          3,
          20,
          13,
          4,
          7,
          16,
          7,
          2,
          13,
          13,
          13,
          13,
          18,
          12,
          12,
          18,
          18,
          18,
          18,
          18,
          17,
          18,
          17,
          15,
          15,
          15,
          15,
          15,
          9,
          10,
          9,
          9,
          9,
          9,
          9,
          10,
          9,
          9,
          8,
          9,
          9,
          9,
          8,
          8,
          6,
          6,
          5,
          6
         ],
         "xaxis": "x4",
         "y": [
          0.8737311495617718,
          0.8737311495617718,
          0.8737311495617718,
          0.8737311495617718,
          0.8737311495617718,
          0.8737311495617718,
          0.8737311495617718,
          0.8737311495617718,
          0.8689835633256916,
          0.8453965064335891,
          0.8713074209496533,
          0.8510477929126722,
          0.841763873146164,
          0.8729252999145831,
          0.8658891930674102,
          0.8505793338305343,
          0.8722184622340082,
          0.8734150509435599,
          0.8674804214016542,
          0.8530821013271636,
          0.840817397552413,
          0.8731502375595058,
          0.8403978846969176,
          0.8325024385578306,
          0.8659594071748931,
          0.8248910887624993,
          0.8263414094362347,
          0.8436733745426949,
          0.8367577033488635,
          0.8346293941387245,
          0.8346106117541782,
          0.8361924795341507,
          0.8390800875919091,
          0.8363687800666778,
          0.8404318178224903,
          0.8401947327582467,
          0.8480176998645652,
          0.8498359176816358,
          0.8750632853765458,
          0.8754017757741014,
          0.874250172191967,
          0.874250172191967,
          0.8720418257938298,
          0.8748404889230972,
          0.8724434157008705,
          0.872436098151461,
          0.8745598814918895,
          0.8743185132382045,
          0.8746278405196168,
          0.8737703369791443,
          0.8744076582742697,
          0.8745701206158898,
          0.8738689131830645,
          0.8733080896195892,
          0.8749563507176059,
          0.8739737160968651,
          0.8746030893793579,
          0.8750083254254732
         ],
         "yaxis": "y4"
        },
        {
         "marker": {
          "color": "Darkgrey",
          "colorbar": {
           "title": {
            "text": "Trial"
           },
           "x": 1,
           "xpad": 40
          },
          "colorscale": [
           [
            0,
            "rgb(247,251,255)"
           ],
           [
            0.125,
            "rgb(222,235,247)"
           ],
           [
            0.25,
            "rgb(198,219,239)"
           ],
           [
            0.375,
            "rgb(158,202,225)"
           ],
           [
            0.5,
            "rgb(107,174,214)"
           ],
           [
            0.625,
            "rgb(66,146,198)"
           ],
           [
            0.75,
            "rgb(33,113,181)"
           ],
           [
            0.875,
            "rgb(8,81,156)"
           ],
           [
            1,
            "rgb(8,48,107)"
           ]
          ],
          "line": {
           "color": "Black",
           "width": 1
          },
          "opacity": 0.2,
          "showscale": false,
          "size": 3
         },
         "mode": "markers",
         "showlegend": false,
         "type": "scatter",
         "x": [
          0.5970687601576639,
          1.5409329677182841,
          0.13626570438350996,
          0.2429860475656554,
          1.9566961451746543,
          0.1737928124228303,
          0.3004529131623039,
          4.2122634686112725,
          1.0132965270545016,
          8.02145958254131,
          1.0875856080929018,
          0.14492124372476503,
          0.2538898257007642,
          0.19608141975405297,
          2.284515490869044,
          0.6885615270125475,
          0.20669754704664184,
          0.4504905486204525,
          0.4749945869231715,
          0.42453207710739194,
          0.5051255128646261,
          0.4851957644134323,
          0.531078608969539,
          0.49768728704074455,
          0.5201727174897631,
          1.6376492198228516,
          1.5066840362692897,
          0.10164788929205194,
          0.10971525487633958,
          0.1304242564832737,
          1.4162017016728783,
          0.10843875821407752,
          0.12178017608774762,
          0.10055293859270253,
          0.11335374648210686,
          0.8653598984130368,
          0.8080191286691213,
          0.3073813529339342,
          0.2980495088373212,
          0.3049068814015964,
          0.2904831745720208,
          0.3244357324734073,
          0.27674484434295604,
          0.3046560043737218,
          0.3139913223269612,
          0.15670296619185892,
          0.16511397284190643,
          0.16657689698734235,
          0.311705054205669,
          0.35208202861216265,
          0.3127078766259126,
          0.33744904845230533,
          0.157981593134876,
          0.36168339505731656,
          0.19089266593784443,
          0.2148540091327463,
          0.21723474748474114,
          0.22381500036935842
         ],
         "xaxis": "x5",
         "y": [
          0.8737311495617718,
          0.8737311495617718,
          0.8737311495617718,
          0.8737311495617718,
          0.8737311495617718,
          0.8737311495617718,
          0.8737311495617718,
          0.8737311495617718,
          0.8689835633256916,
          0.8453965064335891,
          0.8713074209496533,
          0.8510477929126722,
          0.841763873146164,
          0.8729252999145831,
          0.8658891930674102,
          0.8505793338305343,
          0.8722184622340082,
          0.8734150509435599,
          0.8674804214016542,
          0.8530821013271636,
          0.840817397552413,
          0.8731502375595058,
          0.8403978846969176,
          0.8325024385578306,
          0.8659594071748931,
          0.8248910887624993,
          0.8263414094362347,
          0.8436733745426949,
          0.8367577033488635,
          0.8346293941387245,
          0.8346106117541782,
          0.8361924795341507,
          0.8390800875919091,
          0.8363687800666778,
          0.8404318178224903,
          0.8401947327582467,
          0.8480176998645652,
          0.8498359176816358,
          0.8750632853765458,
          0.8754017757741014,
          0.874250172191967,
          0.874250172191967,
          0.8720418257938298,
          0.8748404889230972,
          0.8724434157008705,
          0.872436098151461,
          0.8745598814918895,
          0.8743185132382045,
          0.8746278405196168,
          0.8737703369791443,
          0.8744076582742697,
          0.8745701206158898,
          0.8738689131830645,
          0.8733080896195892,
          0.8749563507176059,
          0.8739737160968651,
          0.8746030893793579,
          0.8750083254254732
         ],
         "yaxis": "y5"
        },
        {
         "marker": {
          "color": "Darkgrey",
          "colorbar": {
           "title": {
            "text": "Trial"
           },
           "x": 1,
           "xpad": 40
          },
          "colorscale": [
           [
            0,
            "rgb(247,251,255)"
           ],
           [
            0.125,
            "rgb(222,235,247)"
           ],
           [
            0.25,
            "rgb(198,219,239)"
           ],
           [
            0.375,
            "rgb(158,202,225)"
           ],
           [
            0.5,
            "rgb(107,174,214)"
           ],
           [
            0.625,
            "rgb(66,146,198)"
           ],
           [
            0.75,
            "rgb(33,113,181)"
           ],
           [
            0.875,
            "rgb(8,81,156)"
           ],
           [
            1,
            "rgb(8,48,107)"
           ]
          ],
          "line": {
           "color": "Black",
           "width": 1
          },
          "opacity": 0.2,
          "showscale": false,
          "size": 3
         },
         "mode": "markers",
         "showlegend": false,
         "type": "scatter",
         "x": [
          28,
          71,
          122,
          54,
          13,
          144,
          75,
          15,
          11,
          39,
          10,
          41,
          99,
          60,
          37,
          40,
          180,
          28,
          27,
          25,
          26,
          24,
          26,
          187,
          23,
          185,
          93,
          78,
          107,
          87,
          100,
          100,
          106,
          105,
          112,
          121,
          61,
          57,
          52,
          53,
          53,
          60,
          59,
          55,
          60,
          132,
          72,
          50,
          46,
          50,
          47,
          48,
          48,
          47,
          49,
          48,
          46,
          69
         ],
         "xaxis": "x6",
         "y": [
          0.8737311495617718,
          0.8737311495617718,
          0.8737311495617718,
          0.8737311495617718,
          0.8737311495617718,
          0.8737311495617718,
          0.8737311495617718,
          0.8737311495617718,
          0.8689835633256916,
          0.8453965064335891,
          0.8713074209496533,
          0.8510477929126722,
          0.841763873146164,
          0.8729252999145831,
          0.8658891930674102,
          0.8505793338305343,
          0.8722184622340082,
          0.8734150509435599,
          0.8674804214016542,
          0.8530821013271636,
          0.840817397552413,
          0.8731502375595058,
          0.8403978846969176,
          0.8325024385578306,
          0.8659594071748931,
          0.8248910887624993,
          0.8263414094362347,
          0.8436733745426949,
          0.8367577033488635,
          0.8346293941387245,
          0.8346106117541782,
          0.8361924795341507,
          0.8390800875919091,
          0.8363687800666778,
          0.8404318178224903,
          0.8401947327582467,
          0.8480176998645652,
          0.8498359176816358,
          0.8750632853765458,
          0.8754017757741014,
          0.874250172191967,
          0.874250172191967,
          0.8720418257938298,
          0.8748404889230972,
          0.8724434157008705,
          0.872436098151461,
          0.8745598814918895,
          0.8743185132382045,
          0.8746278405196168,
          0.8737703369791443,
          0.8744076582742697,
          0.8745701206158898,
          0.8738689131830645,
          0.8733080896195892,
          0.8749563507176059,
          0.8739737160968651,
          0.8746030893793579,
          0.8750083254254732
         ],
         "yaxis": "y6"
        },
        {
         "marker": {
          "color": "Darkgrey",
          "colorbar": {
           "title": {
            "text": "Trial"
           },
           "x": 1,
           "xpad": 40
          },
          "colorscale": [
           [
            0,
            "rgb(247,251,255)"
           ],
           [
            0.125,
            "rgb(222,235,247)"
           ],
           [
            0.25,
            "rgb(198,219,239)"
           ],
           [
            0.375,
            "rgb(158,202,225)"
           ],
           [
            0.5,
            "rgb(107,174,214)"
           ],
           [
            0.625,
            "rgb(66,146,198)"
           ],
           [
            0.75,
            "rgb(33,113,181)"
           ],
           [
            0.875,
            "rgb(8,81,156)"
           ],
           [
            1,
            "rgb(8,48,107)"
           ]
          ],
          "line": {
           "color": "Black",
           "width": 1
          },
          "opacity": 0.2,
          "showscale": false,
          "size": 3
         },
         "mode": "markers",
         "showlegend": false,
         "type": "scatter",
         "x": [
          0.4885395646312975,
          0.4706098452424691,
          0.44334591985206784,
          0.4252416962988632,
          0.4860471586618517,
          0.4446916204296548,
          0.4499729818482776,
          0.4972970418225472,
          0.5992587800670757,
          0.4747461619687273,
          0.5019548199877619,
          0.41460395447566073,
          0.5322352846876505,
          0.4388792618053007,
          0.5557462089467453,
          0.4291794925139162,
          0.5799976663850501,
          0.4028496386126557,
          0.5251442684694156,
          0.5240753820111815,
          0.5153029412473229,
          0.5060290590087091,
          0.4590950942617572,
          0.46793152294570695,
          0.46477072131580066,
          0.47093524106467766,
          0.4714956927938439,
          0.46692327283755575,
          0.4663753987342544,
          0.46637347185366085,
          0.4674544190848882,
          0.4763307976425524,
          0.4817625354872096,
          0.4905869038458474,
          0.4890288479103389,
          0.4862294762988435,
          0.4877382530745991,
          0.43193352994829115,
          0.4847067733128575,
          0.4320253777128134,
          0.43307958051624357,
          0.44248390980966407,
          0.4499843621236442,
          0.4460951773178836,
          0.45102692443412123,
          0.45016446721444414,
          0.449741889490918,
          0.45480118287504423,
          0.45042417292764725,
          0.4510775920060637,
          0.4212351290932314,
          0.42188559191487046,
          0.4219180692252314,
          0.43911963873121246,
          0.4199176500616737,
          0.4205604192746213,
          0.4257995105682956,
          0.4208883573724717
         ],
         "xaxis": "x7",
         "y": [
          0.8737311495617718,
          0.8737311495617718,
          0.8737311495617718,
          0.8737311495617718,
          0.8737311495617718,
          0.8737311495617718,
          0.8737311495617718,
          0.8737311495617718,
          0.8689835633256916,
          0.8453965064335891,
          0.8713074209496533,
          0.8510477929126722,
          0.841763873146164,
          0.8729252999145831,
          0.8658891930674102,
          0.8505793338305343,
          0.8722184622340082,
          0.8734150509435599,
          0.8674804214016542,
          0.8530821013271636,
          0.840817397552413,
          0.8731502375595058,
          0.8403978846969176,
          0.8325024385578306,
          0.8659594071748931,
          0.8248910887624993,
          0.8263414094362347,
          0.8436733745426949,
          0.8367577033488635,
          0.8346293941387245,
          0.8346106117541782,
          0.8361924795341507,
          0.8390800875919091,
          0.8363687800666778,
          0.8404318178224903,
          0.8401947327582467,
          0.8480176998645652,
          0.8498359176816358,
          0.8750632853765458,
          0.8754017757741014,
          0.874250172191967,
          0.874250172191967,
          0.8720418257938298,
          0.8748404889230972,
          0.8724434157008705,
          0.872436098151461,
          0.8745598814918895,
          0.8743185132382045,
          0.8746278405196168,
          0.8737703369791443,
          0.8744076582742697,
          0.8745701206158898,
          0.8738689131830645,
          0.8733080896195892,
          0.8749563507176059,
          0.8739737160968651,
          0.8746030893793579,
          0.8750083254254732
         ],
         "yaxis": "y7"
        },
        {
         "marker": {
          "color": "Darkgrey",
          "colorbar": {
           "title": {
            "text": "Trial"
           },
           "x": 1,
           "xpad": 40
          },
          "colorscale": [
           [
            0,
            "rgb(247,251,255)"
           ],
           [
            0.125,
            "rgb(222,235,247)"
           ],
           [
            0.25,
            "rgb(198,219,239)"
           ],
           [
            0.375,
            "rgb(158,202,225)"
           ],
           [
            0.5,
            "rgb(107,174,214)"
           ],
           [
            0.625,
            "rgb(66,146,198)"
           ],
           [
            0.75,
            "rgb(33,113,181)"
           ],
           [
            0.875,
            "rgb(8,81,156)"
           ],
           [
            1,
            "rgb(8,48,107)"
           ]
          ],
          "line": {
           "color": "Black",
           "width": 1
          },
          "opacity": 0.2,
          "showscale": false,
          "size": 3
         },
         "mode": "markers",
         "showlegend": false,
         "type": "scatter",
         "x": [
          0.9140810131136234,
          0.8996431013028829,
          0.8763924547495934,
          0.8896056293951207,
          0.8827621920458972,
          0.5264897661861909,
          0.7116415969551304,
          0.8100149746433927,
          0.7457570449364836,
          0.7045106476088672,
          0.664627986023375,
          0.4846572571860634,
          0.6253031661751756,
          0.35610202493150345,
          0.7178873078760146,
          0.40462765671136314,
          0.31378213983074754,
          0.9885688374473969,
          0.9811423311001859,
          0.973400937110253,
          0.969659443416019,
          0.982668454888192,
          0.9957285241689433,
          0.960100100790944,
          0.9649082374152191,
          0.8278970904620399,
          0.7981809546166431,
          0.7986195832972879,
          0.8758962188291783,
          0.8649094375928571,
          0.8788149199853846,
          0.8798230381561137,
          0.862385119534874,
          0.8912143850484274,
          0.8919981067960566,
          0.8917548820421685,
          0.909212473800578,
          0.9309090073723637,
          0.9270480056235874,
          0.9349732719676106,
          0.9017476121739695,
          0.9233075565378442,
          0.9228185507655815,
          0.9187976987635702,
          0.9360255247130539,
          0.9218264336556543,
          0.9211368364108098,
          0.9200191517274086,
          0.9248948204078171,
          0.8404076596558255,
          0.9393752936023343,
          0.9403505574888458,
          0.9385355031800321,
          0.9466578892317842,
          0.9452345639157315,
          0.8386540944268168,
          0.9475785097113558,
          0.9482648540391643
         ],
         "xaxis": "x8",
         "y": [
          0.8737311495617718,
          0.8737311495617718,
          0.8737311495617718,
          0.8737311495617718,
          0.8737311495617718,
          0.8737311495617718,
          0.8737311495617718,
          0.8737311495617718,
          0.8689835633256916,
          0.8453965064335891,
          0.8713074209496533,
          0.8510477929126722,
          0.841763873146164,
          0.8729252999145831,
          0.8658891930674102,
          0.8505793338305343,
          0.8722184622340082,
          0.8734150509435599,
          0.8674804214016542,
          0.8530821013271636,
          0.840817397552413,
          0.8731502375595058,
          0.8403978846969176,
          0.8325024385578306,
          0.8659594071748931,
          0.8248910887624993,
          0.8263414094362347,
          0.8436733745426949,
          0.8367577033488635,
          0.8346293941387245,
          0.8346106117541782,
          0.8361924795341507,
          0.8390800875919091,
          0.8363687800666778,
          0.8404318178224903,
          0.8401947327582467,
          0.8480176998645652,
          0.8498359176816358,
          0.8750632853765458,
          0.8754017757741014,
          0.874250172191967,
          0.874250172191967,
          0.8720418257938298,
          0.8748404889230972,
          0.8724434157008705,
          0.872436098151461,
          0.8745598814918895,
          0.8743185132382045,
          0.8746278405196168,
          0.8737703369791443,
          0.8744076582742697,
          0.8745701206158898,
          0.8738689131830645,
          0.8733080896195892,
          0.8749563507176059,
          0.8739737160968651,
          0.8746030893793579,
          0.8750083254254732
         ],
         "yaxis": "y8"
        }
       ],
       "layout": {
        "font": {
         "size": 10
        },
        "template": {
         "layout": {
          "autosize": true,
          "height": 200,
          "legend": {
           "orientation": "h"
          },
          "margin": {
           "b": 40,
           "t": 40
          },
          "template": {
           "data": {
            "bar": [
             {
              "error_x": {
               "color": "rgb(36,36,36)"
              },
              "error_y": {
               "color": "rgb(36,36,36)"
              },
              "marker": {
               "line": {
                "color": "rgb(234,234,242)",
                "width": 0.5
               },
               "pattern": {
                "fillmode": "overlay",
                "size": 10,
                "solidity": 0.2
               }
              },
              "type": "bar"
             }
            ],
            "barpolar": [
             {
              "marker": {
               "line": {
                "color": "rgb(234,234,242)",
                "width": 0.5
               },
               "pattern": {
                "fillmode": "overlay",
                "size": 10,
                "solidity": 0.2
               }
              },
              "type": "barpolar"
             }
            ],
            "carpet": [
             {
              "aaxis": {
               "endlinecolor": "rgb(36,36,36)",
               "gridcolor": "white",
               "linecolor": "white",
               "minorgridcolor": "white",
               "startlinecolor": "rgb(36,36,36)"
              },
              "baxis": {
               "endlinecolor": "rgb(36,36,36)",
               "gridcolor": "white",
               "linecolor": "white",
               "minorgridcolor": "white",
               "startlinecolor": "rgb(36,36,36)"
              },
              "type": "carpet"
             }
            ],
            "choropleth": [
             {
              "colorbar": {
               "outlinewidth": 0,
               "tickcolor": "rgb(36,36,36)",
               "ticklen": 8,
               "ticks": "outside",
               "tickwidth": 2
              },
              "type": "choropleth"
             }
            ],
            "contour": [
             {
              "colorbar": {
               "outlinewidth": 0,
               "tickcolor": "rgb(36,36,36)",
               "ticklen": 8,
               "ticks": "outside",
               "tickwidth": 2
              },
              "colorscale": [
               [
                0,
                "rgb(2,4,25)"
               ],
               [
                0.06274509803921569,
                "rgb(24,15,41)"
               ],
               [
                0.12549019607843137,
                "rgb(47,23,57)"
               ],
               [
                0.18823529411764706,
                "rgb(71,28,72)"
               ],
               [
                0.25098039215686274,
                "rgb(97,30,82)"
               ],
               [
                0.3137254901960784,
                "rgb(123,30,89)"
               ],
               [
                0.3764705882352941,
                "rgb(150,27,91)"
               ],
               [
                0.4392156862745098,
                "rgb(177,22,88)"
               ],
               [
                0.5019607843137255,
                "rgb(203,26,79)"
               ],
               [
                0.5647058823529412,
                "rgb(223,47,67)"
               ],
               [
                0.6274509803921569,
                "rgb(236,76,61)"
               ],
               [
                0.6901960784313725,
                "rgb(242,107,73)"
               ],
               [
                0.7529411764705882,
                "rgb(244,135,95)"
               ],
               [
                0.8156862745098039,
                "rgb(245,162,122)"
               ],
               [
                0.8784313725490196,
                "rgb(246,188,153)"
               ],
               [
                0.9411764705882353,
                "rgb(247,212,187)"
               ],
               [
                1,
                "rgb(250,234,220)"
               ]
              ],
              "type": "contour"
             }
            ],
            "contourcarpet": [
             {
              "colorbar": {
               "outlinewidth": 0,
               "tickcolor": "rgb(36,36,36)",
               "ticklen": 8,
               "ticks": "outside",
               "tickwidth": 2
              },
              "type": "contourcarpet"
             }
            ],
            "heatmap": [
             {
              "colorbar": {
               "outlinewidth": 0,
               "tickcolor": "rgb(36,36,36)",
               "ticklen": 8,
               "ticks": "outside",
               "tickwidth": 2
              },
              "colorscale": [
               [
                0,
                "rgb(2,4,25)"
               ],
               [
                0.06274509803921569,
                "rgb(24,15,41)"
               ],
               [
                0.12549019607843137,
                "rgb(47,23,57)"
               ],
               [
                0.18823529411764706,
                "rgb(71,28,72)"
               ],
               [
                0.25098039215686274,
                "rgb(97,30,82)"
               ],
               [
                0.3137254901960784,
                "rgb(123,30,89)"
               ],
               [
                0.3764705882352941,
                "rgb(150,27,91)"
               ],
               [
                0.4392156862745098,
                "rgb(177,22,88)"
               ],
               [
                0.5019607843137255,
                "rgb(203,26,79)"
               ],
               [
                0.5647058823529412,
                "rgb(223,47,67)"
               ],
               [
                0.6274509803921569,
                "rgb(236,76,61)"
               ],
               [
                0.6901960784313725,
                "rgb(242,107,73)"
               ],
               [
                0.7529411764705882,
                "rgb(244,135,95)"
               ],
               [
                0.8156862745098039,
                "rgb(245,162,122)"
               ],
               [
                0.8784313725490196,
                "rgb(246,188,153)"
               ],
               [
                0.9411764705882353,
                "rgb(247,212,187)"
               ],
               [
                1,
                "rgb(250,234,220)"
               ]
              ],
              "type": "heatmap"
             }
            ],
            "heatmapgl": [
             {
              "colorbar": {
               "outlinewidth": 0,
               "tickcolor": "rgb(36,36,36)",
               "ticklen": 8,
               "ticks": "outside",
               "tickwidth": 2
              },
              "colorscale": [
               [
                0,
                "rgb(2,4,25)"
               ],
               [
                0.06274509803921569,
                "rgb(24,15,41)"
               ],
               [
                0.12549019607843137,
                "rgb(47,23,57)"
               ],
               [
                0.18823529411764706,
                "rgb(71,28,72)"
               ],
               [
                0.25098039215686274,
                "rgb(97,30,82)"
               ],
               [
                0.3137254901960784,
                "rgb(123,30,89)"
               ],
               [
                0.3764705882352941,
                "rgb(150,27,91)"
               ],
               [
                0.4392156862745098,
                "rgb(177,22,88)"
               ],
               [
                0.5019607843137255,
                "rgb(203,26,79)"
               ],
               [
                0.5647058823529412,
                "rgb(223,47,67)"
               ],
               [
                0.6274509803921569,
                "rgb(236,76,61)"
               ],
               [
                0.6901960784313725,
                "rgb(242,107,73)"
               ],
               [
                0.7529411764705882,
                "rgb(244,135,95)"
               ],
               [
                0.8156862745098039,
                "rgb(245,162,122)"
               ],
               [
                0.8784313725490196,
                "rgb(246,188,153)"
               ],
               [
                0.9411764705882353,
                "rgb(247,212,187)"
               ],
               [
                1,
                "rgb(250,234,220)"
               ]
              ],
              "type": "heatmapgl"
             }
            ],
            "histogram": [
             {
              "marker": {
               "pattern": {
                "fillmode": "overlay",
                "size": 10,
                "solidity": 0.2
               }
              },
              "type": "histogram"
             }
            ],
            "histogram2d": [
             {
              "colorbar": {
               "outlinewidth": 0,
               "tickcolor": "rgb(36,36,36)",
               "ticklen": 8,
               "ticks": "outside",
               "tickwidth": 2
              },
              "colorscale": [
               [
                0,
                "rgb(2,4,25)"
               ],
               [
                0.06274509803921569,
                "rgb(24,15,41)"
               ],
               [
                0.12549019607843137,
                "rgb(47,23,57)"
               ],
               [
                0.18823529411764706,
                "rgb(71,28,72)"
               ],
               [
                0.25098039215686274,
                "rgb(97,30,82)"
               ],
               [
                0.3137254901960784,
                "rgb(123,30,89)"
               ],
               [
                0.3764705882352941,
                "rgb(150,27,91)"
               ],
               [
                0.4392156862745098,
                "rgb(177,22,88)"
               ],
               [
                0.5019607843137255,
                "rgb(203,26,79)"
               ],
               [
                0.5647058823529412,
                "rgb(223,47,67)"
               ],
               [
                0.6274509803921569,
                "rgb(236,76,61)"
               ],
               [
                0.6901960784313725,
                "rgb(242,107,73)"
               ],
               [
                0.7529411764705882,
                "rgb(244,135,95)"
               ],
               [
                0.8156862745098039,
                "rgb(245,162,122)"
               ],
               [
                0.8784313725490196,
                "rgb(246,188,153)"
               ],
               [
                0.9411764705882353,
                "rgb(247,212,187)"
               ],
               [
                1,
                "rgb(250,234,220)"
               ]
              ],
              "type": "histogram2d"
             }
            ],
            "histogram2dcontour": [
             {
              "colorbar": {
               "outlinewidth": 0,
               "tickcolor": "rgb(36,36,36)",
               "ticklen": 8,
               "ticks": "outside",
               "tickwidth": 2
              },
              "colorscale": [
               [
                0,
                "rgb(2,4,25)"
               ],
               [
                0.06274509803921569,
                "rgb(24,15,41)"
               ],
               [
                0.12549019607843137,
                "rgb(47,23,57)"
               ],
               [
                0.18823529411764706,
                "rgb(71,28,72)"
               ],
               [
                0.25098039215686274,
                "rgb(97,30,82)"
               ],
               [
                0.3137254901960784,
                "rgb(123,30,89)"
               ],
               [
                0.3764705882352941,
                "rgb(150,27,91)"
               ],
               [
                0.4392156862745098,
                "rgb(177,22,88)"
               ],
               [
                0.5019607843137255,
                "rgb(203,26,79)"
               ],
               [
                0.5647058823529412,
                "rgb(223,47,67)"
               ],
               [
                0.6274509803921569,
                "rgb(236,76,61)"
               ],
               [
                0.6901960784313725,
                "rgb(242,107,73)"
               ],
               [
                0.7529411764705882,
                "rgb(244,135,95)"
               ],
               [
                0.8156862745098039,
                "rgb(245,162,122)"
               ],
               [
                0.8784313725490196,
                "rgb(246,188,153)"
               ],
               [
                0.9411764705882353,
                "rgb(247,212,187)"
               ],
               [
                1,
                "rgb(250,234,220)"
               ]
              ],
              "type": "histogram2dcontour"
             }
            ],
            "mesh3d": [
             {
              "colorbar": {
               "outlinewidth": 0,
               "tickcolor": "rgb(36,36,36)",
               "ticklen": 8,
               "ticks": "outside",
               "tickwidth": 2
              },
              "type": "mesh3d"
             }
            ],
            "parcoords": [
             {
              "line": {
               "colorbar": {
                "outlinewidth": 0,
                "tickcolor": "rgb(36,36,36)",
                "ticklen": 8,
                "ticks": "outside",
                "tickwidth": 2
               }
              },
              "type": "parcoords"
             }
            ],
            "pie": [
             {
              "automargin": true,
              "type": "pie"
             }
            ],
            "scatter": [
             {
              "fillpattern": {
               "fillmode": "overlay",
               "size": 10,
               "solidity": 0.2
              },
              "type": "scatter"
             }
            ],
            "scatter3d": [
             {
              "line": {
               "colorbar": {
                "outlinewidth": 0,
                "tickcolor": "rgb(36,36,36)",
                "ticklen": 8,
                "ticks": "outside",
                "tickwidth": 2
               }
              },
              "marker": {
               "colorbar": {
                "outlinewidth": 0,
                "tickcolor": "rgb(36,36,36)",
                "ticklen": 8,
                "ticks": "outside",
                "tickwidth": 2
               }
              },
              "type": "scatter3d"
             }
            ],
            "scattercarpet": [
             {
              "marker": {
               "colorbar": {
                "outlinewidth": 0,
                "tickcolor": "rgb(36,36,36)",
                "ticklen": 8,
                "ticks": "outside",
                "tickwidth": 2
               }
              },
              "type": "scattercarpet"
             }
            ],
            "scattergeo": [
             {
              "marker": {
               "colorbar": {
                "outlinewidth": 0,
                "tickcolor": "rgb(36,36,36)",
                "ticklen": 8,
                "ticks": "outside",
                "tickwidth": 2
               }
              },
              "type": "scattergeo"
             }
            ],
            "scattergl": [
             {
              "marker": {
               "colorbar": {
                "outlinewidth": 0,
                "tickcolor": "rgb(36,36,36)",
                "ticklen": 8,
                "ticks": "outside",
                "tickwidth": 2
               }
              },
              "type": "scattergl"
             }
            ],
            "scattermapbox": [
             {
              "marker": {
               "colorbar": {
                "outlinewidth": 0,
                "tickcolor": "rgb(36,36,36)",
                "ticklen": 8,
                "ticks": "outside",
                "tickwidth": 2
               }
              },
              "type": "scattermapbox"
             }
            ],
            "scatterpolar": [
             {
              "marker": {
               "colorbar": {
                "outlinewidth": 0,
                "tickcolor": "rgb(36,36,36)",
                "ticklen": 8,
                "ticks": "outside",
                "tickwidth": 2
               }
              },
              "type": "scatterpolar"
             }
            ],
            "scatterpolargl": [
             {
              "marker": {
               "colorbar": {
                "outlinewidth": 0,
                "tickcolor": "rgb(36,36,36)",
                "ticklen": 8,
                "ticks": "outside",
                "tickwidth": 2
               }
              },
              "type": "scatterpolargl"
             }
            ],
            "scatterternary": [
             {
              "marker": {
               "colorbar": {
                "outlinewidth": 0,
                "tickcolor": "rgb(36,36,36)",
                "ticklen": 8,
                "ticks": "outside",
                "tickwidth": 2
               }
              },
              "type": "scatterternary"
             }
            ],
            "surface": [
             {
              "colorbar": {
               "outlinewidth": 0,
               "tickcolor": "rgb(36,36,36)",
               "ticklen": 8,
               "ticks": "outside",
               "tickwidth": 2
              },
              "colorscale": [
               [
                0,
                "rgb(2,4,25)"
               ],
               [
                0.06274509803921569,
                "rgb(24,15,41)"
               ],
               [
                0.12549019607843137,
                "rgb(47,23,57)"
               ],
               [
                0.18823529411764706,
                "rgb(71,28,72)"
               ],
               [
                0.25098039215686274,
                "rgb(97,30,82)"
               ],
               [
                0.3137254901960784,
                "rgb(123,30,89)"
               ],
               [
                0.3764705882352941,
                "rgb(150,27,91)"
               ],
               [
                0.4392156862745098,
                "rgb(177,22,88)"
               ],
               [
                0.5019607843137255,
                "rgb(203,26,79)"
               ],
               [
                0.5647058823529412,
                "rgb(223,47,67)"
               ],
               [
                0.6274509803921569,
                "rgb(236,76,61)"
               ],
               [
                0.6901960784313725,
                "rgb(242,107,73)"
               ],
               [
                0.7529411764705882,
                "rgb(244,135,95)"
               ],
               [
                0.8156862745098039,
                "rgb(245,162,122)"
               ],
               [
                0.8784313725490196,
                "rgb(246,188,153)"
               ],
               [
                0.9411764705882353,
                "rgb(247,212,187)"
               ],
               [
                1,
                "rgb(250,234,220)"
               ]
              ],
              "type": "surface"
             }
            ],
            "table": [
             {
              "cells": {
               "fill": {
                "color": "rgb(231,231,240)"
               },
               "line": {
                "color": "white"
               }
              },
              "header": {
               "fill": {
                "color": "rgb(183,183,191)"
               },
               "line": {
                "color": "white"
               }
              },
              "type": "table"
             }
            ]
           },
           "layout": {
            "annotationdefaults": {
             "arrowcolor": "rgb(67,103,167)"
            },
            "autotypenumbers": "strict",
            "coloraxis": {
             "colorbar": {
              "outlinewidth": 0,
              "tickcolor": "rgb(36,36,36)",
              "ticklen": 8,
              "ticks": "outside",
              "tickwidth": 2
             }
            },
            "colorscale": {
             "sequential": [
              [
               0,
               "rgb(2,4,25)"
              ],
              [
               0.06274509803921569,
               "rgb(24,15,41)"
              ],
              [
               0.12549019607843137,
               "rgb(47,23,57)"
              ],
              [
               0.18823529411764706,
               "rgb(71,28,72)"
              ],
              [
               0.25098039215686274,
               "rgb(97,30,82)"
              ],
              [
               0.3137254901960784,
               "rgb(123,30,89)"
              ],
              [
               0.3764705882352941,
               "rgb(150,27,91)"
              ],
              [
               0.4392156862745098,
               "rgb(177,22,88)"
              ],
              [
               0.5019607843137255,
               "rgb(203,26,79)"
              ],
              [
               0.5647058823529412,
               "rgb(223,47,67)"
              ],
              [
               0.6274509803921569,
               "rgb(236,76,61)"
              ],
              [
               0.6901960784313725,
               "rgb(242,107,73)"
              ],
              [
               0.7529411764705882,
               "rgb(244,135,95)"
              ],
              [
               0.8156862745098039,
               "rgb(245,162,122)"
              ],
              [
               0.8784313725490196,
               "rgb(246,188,153)"
              ],
              [
               0.9411764705882353,
               "rgb(247,212,187)"
              ],
              [
               1,
               "rgb(250,234,220)"
              ]
             ],
             "sequentialminus": [
              [
               0,
               "rgb(2,4,25)"
              ],
              [
               0.06274509803921569,
               "rgb(24,15,41)"
              ],
              [
               0.12549019607843137,
               "rgb(47,23,57)"
              ],
              [
               0.18823529411764706,
               "rgb(71,28,72)"
              ],
              [
               0.25098039215686274,
               "rgb(97,30,82)"
              ],
              [
               0.3137254901960784,
               "rgb(123,30,89)"
              ],
              [
               0.3764705882352941,
               "rgb(150,27,91)"
              ],
              [
               0.4392156862745098,
               "rgb(177,22,88)"
              ],
              [
               0.5019607843137255,
               "rgb(203,26,79)"
              ],
              [
               0.5647058823529412,
               "rgb(223,47,67)"
              ],
              [
               0.6274509803921569,
               "rgb(236,76,61)"
              ],
              [
               0.6901960784313725,
               "rgb(242,107,73)"
              ],
              [
               0.7529411764705882,
               "rgb(244,135,95)"
              ],
              [
               0.8156862745098039,
               "rgb(245,162,122)"
              ],
              [
               0.8784313725490196,
               "rgb(246,188,153)"
              ],
              [
               0.9411764705882353,
               "rgb(247,212,187)"
              ],
              [
               1,
               "rgb(250,234,220)"
              ]
             ]
            },
            "colorway": [
             "rgb(76,114,176)",
             "rgb(221,132,82)",
             "rgb(85,168,104)",
             "rgb(196,78,82)",
             "rgb(129,114,179)",
             "rgb(147,120,96)",
             "rgb(218,139,195)",
             "rgb(140,140,140)",
             "rgb(204,185,116)",
             "rgb(100,181,205)"
            ],
            "font": {
             "color": "rgb(36,36,36)"
            },
            "geo": {
             "bgcolor": "white",
             "lakecolor": "white",
             "landcolor": "rgb(234,234,242)",
             "showlakes": true,
             "showland": true,
             "subunitcolor": "white"
            },
            "hoverlabel": {
             "align": "left"
            },
            "hovermode": "closest",
            "paper_bgcolor": "white",
            "plot_bgcolor": "rgb(234,234,242)",
            "polar": {
             "angularaxis": {
              "gridcolor": "white",
              "linecolor": "white",
              "showgrid": true,
              "ticks": ""
             },
             "bgcolor": "rgb(234,234,242)",
             "radialaxis": {
              "gridcolor": "white",
              "linecolor": "white",
              "showgrid": true,
              "ticks": ""
             }
            },
            "scene": {
             "xaxis": {
              "backgroundcolor": "rgb(234,234,242)",
              "gridcolor": "white",
              "gridwidth": 2,
              "linecolor": "white",
              "showbackground": true,
              "showgrid": true,
              "ticks": "",
              "zerolinecolor": "white"
             },
             "yaxis": {
              "backgroundcolor": "rgb(234,234,242)",
              "gridcolor": "white",
              "gridwidth": 2,
              "linecolor": "white",
              "showbackground": true,
              "showgrid": true,
              "ticks": "",
              "zerolinecolor": "white"
             },
             "zaxis": {
              "backgroundcolor": "rgb(234,234,242)",
              "gridcolor": "white",
              "gridwidth": 2,
              "linecolor": "white",
              "showbackground": true,
              "showgrid": true,
              "ticks": "",
              "zerolinecolor": "white"
             }
            },
            "shapedefaults": {
             "fillcolor": "rgb(67,103,167)",
             "line": {
              "width": 0
             },
             "opacity": 0.5
            },
            "ternary": {
             "aaxis": {
              "gridcolor": "white",
              "linecolor": "white",
              "showgrid": true,
              "ticks": ""
             },
             "baxis": {
              "gridcolor": "white",
              "linecolor": "white",
              "showgrid": true,
              "ticks": ""
             },
             "bgcolor": "rgb(234,234,242)",
             "caxis": {
              "gridcolor": "white",
              "linecolor": "white",
              "showgrid": true,
              "ticks": ""
             }
            },
            "xaxis": {
             "automargin": true,
             "gridcolor": "white",
             "linecolor": "white",
             "showgrid": true,
             "ticks": "",
             "title": {
              "standoff": 15
             },
             "zerolinecolor": "white"
            },
            "yaxis": {
             "automargin": true,
             "gridcolor": "white",
             "linecolor": "white",
             "showgrid": true,
             "ticks": "",
             "title": {
              "standoff": 15
             },
             "zerolinecolor": "white"
            }
           }
          }
         }
        },
        "title": {
         "text": "XGBClassifier",
         "x": 0
        },
        "width": 2400,
        "xaxis": {
         "anchor": "y",
         "domain": [
          0,
          0.103125
         ],
         "title": {
          "text": "XGBC__gamma"
         },
         "type": "log"
        },
        "xaxis2": {
         "anchor": "y2",
         "domain": [
          0.128125,
          0.23124999999999998
         ],
         "title": {
          "text": "XGBC__lambda"
         },
         "type": "log"
        },
        "xaxis3": {
         "anchor": "y3",
         "domain": [
          0.25625,
          0.359375
         ],
         "title": {
          "text": "XGBC__learning_rate"
         }
        },
        "xaxis4": {
         "anchor": "y4",
         "domain": [
          0.38437499999999997,
          0.48749999999999993
         ],
         "title": {
          "text": "XGBC__max_depth"
         }
        },
        "xaxis5": {
         "anchor": "y5",
         "domain": [
          0.5125,
          0.615625
         ],
         "title": {
          "text": "XGBC__min_child_weight"
         },
         "type": "log"
        },
        "xaxis6": {
         "anchor": "y6",
         "domain": [
          0.640625,
          0.74375
         ],
         "title": {
          "text": "XGBC__n_estimators"
         },
         "type": "log"
        },
        "xaxis7": {
         "anchor": "y7",
         "domain": [
          0.76875,
          0.8718750000000001
         ],
         "title": {
          "text": "XGBC__scale_pos_weight"
         }
        },
        "xaxis8": {
         "anchor": "y8",
         "domain": [
          0.8968750000000001,
          1
         ],
         "title": {
          "text": "XGBC__subsample"
         }
        },
        "yaxis": {
         "anchor": "x",
         "domain": [
          0,
          1
         ],
         "title": {
          "text": "Objective Value"
         }
        },
        "yaxis2": {
         "anchor": "x2",
         "domain": [
          0,
          1
         ],
         "matches": "y",
         "showticklabels": false
        },
        "yaxis3": {
         "anchor": "x3",
         "domain": [
          0,
          1
         ],
         "matches": "y",
         "showticklabels": false
        },
        "yaxis4": {
         "anchor": "x4",
         "domain": [
          0,
          1
         ],
         "matches": "y",
         "showticklabels": false
        },
        "yaxis5": {
         "anchor": "x5",
         "domain": [
          0,
          1
         ],
         "matches": "y",
         "showticklabels": false
        },
        "yaxis6": {
         "anchor": "x6",
         "domain": [
          0,
          1
         ],
         "matches": "y",
         "showticklabels": false
        },
        "yaxis7": {
         "anchor": "x7",
         "domain": [
          0,
          1
         ],
         "matches": "y",
         "showticklabels": false
        },
        "yaxis8": {
         "anchor": "x8",
         "domain": [
          0,
          1
         ],
         "matches": "y",
         "showticklabels": false
        }
       }
      },
      "text/html": [
       "<div>                            <div id=\"883472d8-1abe-447f-b99b-cecb3c72b9b3\" class=\"plotly-graph-div\" style=\"height:200px; width:2400px;\"></div>            <script type=\"text/javascript\">                require([\"plotly\"], function(Plotly) {                    window.PLOTLYENV=window.PLOTLYENV || {};                                    if (document.getElementById(\"883472d8-1abe-447f-b99b-cecb3c72b9b3\")) {                    Plotly.newPlot(                        \"883472d8-1abe-447f-b99b-cecb3c72b9b3\",                        [{\"marker\":{\"color\":\"Darkgrey\",\"colorbar\":{\"title\":{\"text\":\"Trial\"},\"x\":1.0,\"xpad\":40},\"colorscale\":[[0.0,\"rgb(247,251,255)\"],[0.125,\"rgb(222,235,247)\"],[0.25,\"rgb(198,219,239)\"],[0.375,\"rgb(158,202,225)\"],[0.5,\"rgb(107,174,214)\"],[0.625,\"rgb(66,146,198)\"],[0.75,\"rgb(33,113,181)\"],[0.875,\"rgb(8,81,156)\"],[1.0,\"rgb(8,48,107)\"]],\"line\":{\"color\":\"Black\",\"width\":1},\"showscale\":true,\"opacity\":0.2,\"size\":3},\"mode\":\"markers\",\"showlegend\":false,\"x\":[0.13011896957578734,5.950240958682,0.33323425426092473,3.8074269887598984,5.384258485573347,3.238158054767285,1.345982833253966,0.34389108866816803,0.9650557214409436,2.995747017448444,1.7269387060276793,1.090109443179779,0.20992249022398554,8.935584578310513,0.11719782943842222,0.15752345608722002,7.63647924708675,0.10926429997740926,0.1540451154953228,0.12072716447165285,0.1037966695053361,9.789809694342948,0.6185532147638038,0.521741891600205,0.5748231802182215,0.47682676832317966,0.5310730678442254,0.5416165135673406,0.4080892121176809,0.33147089895256054,0.3230227084488992,0.304975697520508,0.3000708517314514,0.24956132910232887,0.29074803551832146,0.29156281560798736,0.269335003966645,0.25466755894823995,5.412590554019367,4.772691009949947,4.586625744177914,4.966853958581937,5.362576150730888,5.372718642196393,5.37273317686377,4.157805867459746,5.493144356941177,4.559002774338634,4.707398254278289,4.476502866730788,4.232706197479412,4.304755670442827,3.574735336261229,2.797973215266105,7.044587736027974,3.302402590921577,3.038798890660055,3.4025981481121415],\"y\":[0.8737311495617718,0.8737311495617718,0.8737311495617718,0.8737311495617718,0.8737311495617718,0.8737311495617718,0.8737311495617718,0.8737311495617718,0.8689835633256916,0.8453965064335891,0.8713074209496533,0.8510477929126722,0.841763873146164,0.8729252999145831,0.8658891930674102,0.8505793338305343,0.8722184622340082,0.8734150509435599,0.8674804214016542,0.8530821013271636,0.840817397552413,0.8731502375595058,0.8403978846969176,0.8325024385578306,0.8659594071748931,0.8248910887624993,0.8263414094362347,0.8436733745426949,0.8367577033488635,0.8346293941387245,0.8346106117541782,0.8361924795341507,0.8390800875919091,0.8363687800666778,0.8404318178224903,0.8401947327582467,0.8480176998645652,0.8498359176816358,0.8750632853765458,0.8754017757741014,0.874250172191967,0.874250172191967,0.8720418257938298,0.8748404889230972,0.8724434157008705,0.872436098151461,0.8745598814918895,0.8743185132382045,0.8746278405196168,0.8737703369791443,0.8744076582742697,0.8745701206158898,0.8738689131830645,0.8733080896195892,0.8749563507176059,0.8739737160968651,0.8746030893793579,0.8750083254254732],\"type\":\"scatter\",\"xaxis\":\"x\",\"yaxis\":\"y\"},{\"marker\":{\"color\":\"Darkgrey\",\"colorbar\":{\"title\":{\"text\":\"Trial\"},\"x\":1.0,\"xpad\":40},\"colorscale\":[[0.0,\"rgb(247,251,255)\"],[0.125,\"rgb(222,235,247)\"],[0.25,\"rgb(198,219,239)\"],[0.375,\"rgb(158,202,225)\"],[0.5,\"rgb(107,174,214)\"],[0.625,\"rgb(66,146,198)\"],[0.75,\"rgb(33,113,181)\"],[0.875,\"rgb(8,81,156)\"],[1.0,\"rgb(8,48,107)\"]],\"line\":{\"color\":\"Black\",\"width\":1},\"showscale\":false,\"opacity\":0.2,\"size\":3},\"mode\":\"markers\",\"showlegend\":false,\"x\":[2.954398844869693,2.121773989780582,0.1376536782680422,5.676044437710731,0.5697931065146105,1.6390859371494912,0.5919558858902348,0.627954573742244,0.5565900992254903,0.1492498918879972,4.565057678277336,1.0886822286436237,1.2942252391389835,0.20880733586490177,2.2894163253438458,0.6200611064749451,0.13754080950166953,9.761396181667966,2.3235825690548095,2.5518669646099554,3.0447179721452535,9.68683172654591,3.1474107188180325,3.3025902504210234,2.9067797804798396,3.5861488904515246,3.2576737299827863,3.4604519781351386,0.30676522560320973,0.10240173806816037,0.29376640110639207,0.2911463322272602,1.5189235422199838,0.24759654273979279,1.6985773933433168,1.5438386677386227,1.7259212833028414,1.501889810126205,5.437027760410291,5.772323782205765,5.171097707162097,5.476951699307836,0.8642680550390514,4.895957720517418,0.8537779449107955,5.048282279627815,5.799753059672334,5.613183723872548,5.569375942946778,6.232481769932818,5.813609656971824,6.355978867118382,6.04310874579854,6.273956314910568,7.038383527118306,7.035286151385899,7.189889604121925,7.290743781531812],\"y\":[0.8737311495617718,0.8737311495617718,0.8737311495617718,0.8737311495617718,0.8737311495617718,0.8737311495617718,0.8737311495617718,0.8737311495617718,0.8689835633256916,0.8453965064335891,0.8713074209496533,0.8510477929126722,0.841763873146164,0.8729252999145831,0.8658891930674102,0.8505793338305343,0.8722184622340082,0.8734150509435599,0.8674804214016542,0.8530821013271636,0.840817397552413,0.8731502375595058,0.8403978846969176,0.8325024385578306,0.8659594071748931,0.8248910887624993,0.8263414094362347,0.8436733745426949,0.8367577033488635,0.8346293941387245,0.8346106117541782,0.8361924795341507,0.8390800875919091,0.8363687800666778,0.8404318178224903,0.8401947327582467,0.8480176998645652,0.8498359176816358,0.8750632853765458,0.8754017757741014,0.874250172191967,0.874250172191967,0.8720418257938298,0.8748404889230972,0.8724434157008705,0.872436098151461,0.8745598814918895,0.8743185132382045,0.8746278405196168,0.8737703369791443,0.8744076582742697,0.8745701206158898,0.8738689131830645,0.8733080896195892,0.8749563507176059,0.8739737160968651,0.8746030893793579,0.8750083254254732],\"type\":\"scatter\",\"xaxis\":\"x2\",\"yaxis\":\"y2\"},{\"marker\":{\"color\":\"Darkgrey\",\"colorbar\":{\"title\":{\"text\":\"Trial\"},\"x\":1.0,\"xpad\":40},\"colorscale\":[[0.0,\"rgb(247,251,255)\"],[0.125,\"rgb(222,235,247)\"],[0.25,\"rgb(198,219,239)\"],[0.375,\"rgb(158,202,225)\"],[0.5,\"rgb(107,174,214)\"],[0.625,\"rgb(66,146,198)\"],[0.75,\"rgb(33,113,181)\"],[0.875,\"rgb(8,81,156)\"],[1.0,\"rgb(8,48,107)\"]],\"line\":{\"color\":\"Black\",\"width\":1},\"showscale\":false,\"opacity\":0.2,\"size\":3},\"mode\":\"markers\",\"showlegend\":false,\"x\":[0.48836080587640895,0.3769031709708108,0.4728529170345143,0.29584281943439455,0.8908661311923057,0.8143213687676747,0.6894242642559469,0.4614848578435996,0.025532517195841504,0.7648157106603173,0.5116767064617775,0.24731220641465104,0.2912906665078949,0.6451854296539826,0.5402940654998833,0.2372213459051877,0.20946065069787223,0.6351500072021622,0.28092517766286934,0.6342762932544628,0.9733737711671709,0.9612896119664791,0.955521639908695,0.9737157722207261,0.4357634625157497,0.98007630345482,0.9742427680190104,0.4110144996993892,0.41203383466732363,0.42147125746663266,0.4191637708583951,0.3998229252206448,0.3894020319087873,0.3787438449003039,0.384197160045029,0.3698701876067312,0.3454237035737294,0.3347638024380269,0.3453434948601295,0.3464577803883376,0.5517770434355248,0.5462190186082816,0.5543000217103651,0.49240029685679093,0.5555695583749055,0.480654096067847,0.530017565717833,0.46850076282351766,0.48938440949236295,0.5012733180650019,0.4934910989844786,0.4833163171656528,0.48337513996403003,0.4957118241491085,0.4663673154764181,0.47849219290570794,0.5907718592007558,0.4572930447506997],\"y\":[0.8737311495617718,0.8737311495617718,0.8737311495617718,0.8737311495617718,0.8737311495617718,0.8737311495617718,0.8737311495617718,0.8737311495617718,0.8689835633256916,0.8453965064335891,0.8713074209496533,0.8510477929126722,0.841763873146164,0.8729252999145831,0.8658891930674102,0.8505793338305343,0.8722184622340082,0.8734150509435599,0.8674804214016542,0.8530821013271636,0.840817397552413,0.8731502375595058,0.8403978846969176,0.8325024385578306,0.8659594071748931,0.8248910887624993,0.8263414094362347,0.8436733745426949,0.8367577033488635,0.8346293941387245,0.8346106117541782,0.8361924795341507,0.8390800875919091,0.8363687800666778,0.8404318178224903,0.8401947327582467,0.8480176998645652,0.8498359176816358,0.8750632853765458,0.8754017757741014,0.874250172191967,0.874250172191967,0.8720418257938298,0.8748404889230972,0.8724434157008705,0.872436098151461,0.8745598814918895,0.8743185132382045,0.8746278405196168,0.8737703369791443,0.8744076582742697,0.8745701206158898,0.8738689131830645,0.8733080896195892,0.8749563507176059,0.8739737160968651,0.8746030893793579,0.8750083254254732],\"type\":\"scatter\",\"xaxis\":\"x3\",\"yaxis\":\"y3\"},{\"marker\":{\"color\":\"Darkgrey\",\"colorbar\":{\"title\":{\"text\":\"Trial\"},\"x\":1.0,\"xpad\":40},\"colorscale\":[[0.0,\"rgb(247,251,255)\"],[0.125,\"rgb(222,235,247)\"],[0.25,\"rgb(198,219,239)\"],[0.375,\"rgb(158,202,225)\"],[0.5,\"rgb(107,174,214)\"],[0.625,\"rgb(66,146,198)\"],[0.75,\"rgb(33,113,181)\"],[0.875,\"rgb(8,81,156)\"],[1.0,\"rgb(8,48,107)\"]],\"line\":{\"color\":\"Black\",\"width\":1},\"showscale\":false,\"opacity\":0.2,\"size\":3},\"mode\":\"markers\",\"showlegend\":false,\"x\":[15,18,14,10,20,18,10,7,15,16,3,20,13,4,7,16,7,2,13,13,13,13,18,12,12,18,18,18,18,18,17,18,17,15,15,15,15,15,9,10,9,9,9,9,9,10,9,9,8,9,9,9,8,8,6,6,5,6],\"y\":[0.8737311495617718,0.8737311495617718,0.8737311495617718,0.8737311495617718,0.8737311495617718,0.8737311495617718,0.8737311495617718,0.8737311495617718,0.8689835633256916,0.8453965064335891,0.8713074209496533,0.8510477929126722,0.841763873146164,0.8729252999145831,0.8658891930674102,0.8505793338305343,0.8722184622340082,0.8734150509435599,0.8674804214016542,0.8530821013271636,0.840817397552413,0.8731502375595058,0.8403978846969176,0.8325024385578306,0.8659594071748931,0.8248910887624993,0.8263414094362347,0.8436733745426949,0.8367577033488635,0.8346293941387245,0.8346106117541782,0.8361924795341507,0.8390800875919091,0.8363687800666778,0.8404318178224903,0.8401947327582467,0.8480176998645652,0.8498359176816358,0.8750632853765458,0.8754017757741014,0.874250172191967,0.874250172191967,0.8720418257938298,0.8748404889230972,0.8724434157008705,0.872436098151461,0.8745598814918895,0.8743185132382045,0.8746278405196168,0.8737703369791443,0.8744076582742697,0.8745701206158898,0.8738689131830645,0.8733080896195892,0.8749563507176059,0.8739737160968651,0.8746030893793579,0.8750083254254732],\"type\":\"scatter\",\"xaxis\":\"x4\",\"yaxis\":\"y4\"},{\"marker\":{\"color\":\"Darkgrey\",\"colorbar\":{\"title\":{\"text\":\"Trial\"},\"x\":1.0,\"xpad\":40},\"colorscale\":[[0.0,\"rgb(247,251,255)\"],[0.125,\"rgb(222,235,247)\"],[0.25,\"rgb(198,219,239)\"],[0.375,\"rgb(158,202,225)\"],[0.5,\"rgb(107,174,214)\"],[0.625,\"rgb(66,146,198)\"],[0.75,\"rgb(33,113,181)\"],[0.875,\"rgb(8,81,156)\"],[1.0,\"rgb(8,48,107)\"]],\"line\":{\"color\":\"Black\",\"width\":1},\"showscale\":false,\"opacity\":0.2,\"size\":3},\"mode\":\"markers\",\"showlegend\":false,\"x\":[0.5970687601576639,1.5409329677182841,0.13626570438350996,0.2429860475656554,1.9566961451746543,0.1737928124228303,0.3004529131623039,4.2122634686112725,1.0132965270545016,8.02145958254131,1.0875856080929018,0.14492124372476503,0.2538898257007642,0.19608141975405297,2.284515490869044,0.6885615270125475,0.20669754704664184,0.4504905486204525,0.4749945869231715,0.42453207710739194,0.5051255128646261,0.4851957644134323,0.531078608969539,0.49768728704074455,0.5201727174897631,1.6376492198228516,1.5066840362692897,0.10164788929205194,0.10971525487633958,0.1304242564832737,1.4162017016728783,0.10843875821407752,0.12178017608774762,0.10055293859270253,0.11335374648210686,0.8653598984130368,0.8080191286691213,0.3073813529339342,0.2980495088373212,0.3049068814015964,0.2904831745720208,0.3244357324734073,0.27674484434295604,0.3046560043737218,0.3139913223269612,0.15670296619185892,0.16511397284190643,0.16657689698734235,0.311705054205669,0.35208202861216265,0.3127078766259126,0.33744904845230533,0.157981593134876,0.36168339505731656,0.19089266593784443,0.2148540091327463,0.21723474748474114,0.22381500036935842],\"y\":[0.8737311495617718,0.8737311495617718,0.8737311495617718,0.8737311495617718,0.8737311495617718,0.8737311495617718,0.8737311495617718,0.8737311495617718,0.8689835633256916,0.8453965064335891,0.8713074209496533,0.8510477929126722,0.841763873146164,0.8729252999145831,0.8658891930674102,0.8505793338305343,0.8722184622340082,0.8734150509435599,0.8674804214016542,0.8530821013271636,0.840817397552413,0.8731502375595058,0.8403978846969176,0.8325024385578306,0.8659594071748931,0.8248910887624993,0.8263414094362347,0.8436733745426949,0.8367577033488635,0.8346293941387245,0.8346106117541782,0.8361924795341507,0.8390800875919091,0.8363687800666778,0.8404318178224903,0.8401947327582467,0.8480176998645652,0.8498359176816358,0.8750632853765458,0.8754017757741014,0.874250172191967,0.874250172191967,0.8720418257938298,0.8748404889230972,0.8724434157008705,0.872436098151461,0.8745598814918895,0.8743185132382045,0.8746278405196168,0.8737703369791443,0.8744076582742697,0.8745701206158898,0.8738689131830645,0.8733080896195892,0.8749563507176059,0.8739737160968651,0.8746030893793579,0.8750083254254732],\"type\":\"scatter\",\"xaxis\":\"x5\",\"yaxis\":\"y5\"},{\"marker\":{\"color\":\"Darkgrey\",\"colorbar\":{\"title\":{\"text\":\"Trial\"},\"x\":1.0,\"xpad\":40},\"colorscale\":[[0.0,\"rgb(247,251,255)\"],[0.125,\"rgb(222,235,247)\"],[0.25,\"rgb(198,219,239)\"],[0.375,\"rgb(158,202,225)\"],[0.5,\"rgb(107,174,214)\"],[0.625,\"rgb(66,146,198)\"],[0.75,\"rgb(33,113,181)\"],[0.875,\"rgb(8,81,156)\"],[1.0,\"rgb(8,48,107)\"]],\"line\":{\"color\":\"Black\",\"width\":1},\"showscale\":false,\"opacity\":0.2,\"size\":3},\"mode\":\"markers\",\"showlegend\":false,\"x\":[28,71,122,54,13,144,75,15,11,39,10,41,99,60,37,40,180,28,27,25,26,24,26,187,23,185,93,78,107,87,100,100,106,105,112,121,61,57,52,53,53,60,59,55,60,132,72,50,46,50,47,48,48,47,49,48,46,69],\"y\":[0.8737311495617718,0.8737311495617718,0.8737311495617718,0.8737311495617718,0.8737311495617718,0.8737311495617718,0.8737311495617718,0.8737311495617718,0.8689835633256916,0.8453965064335891,0.8713074209496533,0.8510477929126722,0.841763873146164,0.8729252999145831,0.8658891930674102,0.8505793338305343,0.8722184622340082,0.8734150509435599,0.8674804214016542,0.8530821013271636,0.840817397552413,0.8731502375595058,0.8403978846969176,0.8325024385578306,0.8659594071748931,0.8248910887624993,0.8263414094362347,0.8436733745426949,0.8367577033488635,0.8346293941387245,0.8346106117541782,0.8361924795341507,0.8390800875919091,0.8363687800666778,0.8404318178224903,0.8401947327582467,0.8480176998645652,0.8498359176816358,0.8750632853765458,0.8754017757741014,0.874250172191967,0.874250172191967,0.8720418257938298,0.8748404889230972,0.8724434157008705,0.872436098151461,0.8745598814918895,0.8743185132382045,0.8746278405196168,0.8737703369791443,0.8744076582742697,0.8745701206158898,0.8738689131830645,0.8733080896195892,0.8749563507176059,0.8739737160968651,0.8746030893793579,0.8750083254254732],\"type\":\"scatter\",\"xaxis\":\"x6\",\"yaxis\":\"y6\"},{\"marker\":{\"color\":\"Darkgrey\",\"colorbar\":{\"title\":{\"text\":\"Trial\"},\"x\":1.0,\"xpad\":40},\"colorscale\":[[0.0,\"rgb(247,251,255)\"],[0.125,\"rgb(222,235,247)\"],[0.25,\"rgb(198,219,239)\"],[0.375,\"rgb(158,202,225)\"],[0.5,\"rgb(107,174,214)\"],[0.625,\"rgb(66,146,198)\"],[0.75,\"rgb(33,113,181)\"],[0.875,\"rgb(8,81,156)\"],[1.0,\"rgb(8,48,107)\"]],\"line\":{\"color\":\"Black\",\"width\":1},\"showscale\":false,\"opacity\":0.2,\"size\":3},\"mode\":\"markers\",\"showlegend\":false,\"x\":[0.4885395646312975,0.4706098452424691,0.44334591985206784,0.4252416962988632,0.4860471586618517,0.4446916204296548,0.4499729818482776,0.4972970418225472,0.5992587800670757,0.4747461619687273,0.5019548199877619,0.41460395447566073,0.5322352846876505,0.4388792618053007,0.5557462089467453,0.4291794925139162,0.5799976663850501,0.4028496386126557,0.5251442684694156,0.5240753820111815,0.5153029412473229,0.5060290590087091,0.4590950942617572,0.46793152294570695,0.46477072131580066,0.47093524106467766,0.4714956927938439,0.46692327283755575,0.4663753987342544,0.46637347185366085,0.4674544190848882,0.4763307976425524,0.4817625354872096,0.4905869038458474,0.4890288479103389,0.4862294762988435,0.4877382530745991,0.43193352994829115,0.4847067733128575,0.4320253777128134,0.43307958051624357,0.44248390980966407,0.4499843621236442,0.4460951773178836,0.45102692443412123,0.45016446721444414,0.449741889490918,0.45480118287504423,0.45042417292764725,0.4510775920060637,0.4212351290932314,0.42188559191487046,0.4219180692252314,0.43911963873121246,0.4199176500616737,0.4205604192746213,0.4257995105682956,0.4208883573724717],\"y\":[0.8737311495617718,0.8737311495617718,0.8737311495617718,0.8737311495617718,0.8737311495617718,0.8737311495617718,0.8737311495617718,0.8737311495617718,0.8689835633256916,0.8453965064335891,0.8713074209496533,0.8510477929126722,0.841763873146164,0.8729252999145831,0.8658891930674102,0.8505793338305343,0.8722184622340082,0.8734150509435599,0.8674804214016542,0.8530821013271636,0.840817397552413,0.8731502375595058,0.8403978846969176,0.8325024385578306,0.8659594071748931,0.8248910887624993,0.8263414094362347,0.8436733745426949,0.8367577033488635,0.8346293941387245,0.8346106117541782,0.8361924795341507,0.8390800875919091,0.8363687800666778,0.8404318178224903,0.8401947327582467,0.8480176998645652,0.8498359176816358,0.8750632853765458,0.8754017757741014,0.874250172191967,0.874250172191967,0.8720418257938298,0.8748404889230972,0.8724434157008705,0.872436098151461,0.8745598814918895,0.8743185132382045,0.8746278405196168,0.8737703369791443,0.8744076582742697,0.8745701206158898,0.8738689131830645,0.8733080896195892,0.8749563507176059,0.8739737160968651,0.8746030893793579,0.8750083254254732],\"type\":\"scatter\",\"xaxis\":\"x7\",\"yaxis\":\"y7\"},{\"marker\":{\"color\":\"Darkgrey\",\"colorbar\":{\"title\":{\"text\":\"Trial\"},\"x\":1.0,\"xpad\":40},\"colorscale\":[[0.0,\"rgb(247,251,255)\"],[0.125,\"rgb(222,235,247)\"],[0.25,\"rgb(198,219,239)\"],[0.375,\"rgb(158,202,225)\"],[0.5,\"rgb(107,174,214)\"],[0.625,\"rgb(66,146,198)\"],[0.75,\"rgb(33,113,181)\"],[0.875,\"rgb(8,81,156)\"],[1.0,\"rgb(8,48,107)\"]],\"line\":{\"color\":\"Black\",\"width\":1},\"showscale\":false,\"opacity\":0.2,\"size\":3},\"mode\":\"markers\",\"showlegend\":false,\"x\":[0.9140810131136234,0.8996431013028829,0.8763924547495934,0.8896056293951207,0.8827621920458972,0.5264897661861909,0.7116415969551304,0.8100149746433927,0.7457570449364836,0.7045106476088672,0.664627986023375,0.4846572571860634,0.6253031661751756,0.35610202493150345,0.7178873078760146,0.40462765671136314,0.31378213983074754,0.9885688374473969,0.9811423311001859,0.973400937110253,0.969659443416019,0.982668454888192,0.9957285241689433,0.960100100790944,0.9649082374152191,0.8278970904620399,0.7981809546166431,0.7986195832972879,0.8758962188291783,0.8649094375928571,0.8788149199853846,0.8798230381561137,0.862385119534874,0.8912143850484274,0.8919981067960566,0.8917548820421685,0.909212473800578,0.9309090073723637,0.9270480056235874,0.9349732719676106,0.9017476121739695,0.9233075565378442,0.9228185507655815,0.9187976987635702,0.9360255247130539,0.9218264336556543,0.9211368364108098,0.9200191517274086,0.9248948204078171,0.8404076596558255,0.9393752936023343,0.9403505574888458,0.9385355031800321,0.9466578892317842,0.9452345639157315,0.8386540944268168,0.9475785097113558,0.9482648540391643],\"y\":[0.8737311495617718,0.8737311495617718,0.8737311495617718,0.8737311495617718,0.8737311495617718,0.8737311495617718,0.8737311495617718,0.8737311495617718,0.8689835633256916,0.8453965064335891,0.8713074209496533,0.8510477929126722,0.841763873146164,0.8729252999145831,0.8658891930674102,0.8505793338305343,0.8722184622340082,0.8734150509435599,0.8674804214016542,0.8530821013271636,0.840817397552413,0.8731502375595058,0.8403978846969176,0.8325024385578306,0.8659594071748931,0.8248910887624993,0.8263414094362347,0.8436733745426949,0.8367577033488635,0.8346293941387245,0.8346106117541782,0.8361924795341507,0.8390800875919091,0.8363687800666778,0.8404318178224903,0.8401947327582467,0.8480176998645652,0.8498359176816358,0.8750632853765458,0.8754017757741014,0.874250172191967,0.874250172191967,0.8720418257938298,0.8748404889230972,0.8724434157008705,0.872436098151461,0.8745598814918895,0.8743185132382045,0.8746278405196168,0.8737703369791443,0.8744076582742697,0.8745701206158898,0.8738689131830645,0.8733080896195892,0.8749563507176059,0.8739737160968651,0.8746030893793579,0.8750083254254732],\"type\":\"scatter\",\"xaxis\":\"x8\",\"yaxis\":\"y8\"}],                        {\"template\":{\"layout\":{\"autosize\":true,\"height\":200,\"legend\":{\"orientation\":\"h\"},\"margin\":{\"b\":40,\"t\":40},\"template\":{\"data\":{\"barpolar\":[{\"marker\":{\"line\":{\"color\":\"rgb(234,234,242)\",\"width\":0.5},\"pattern\":{\"fillmode\":\"overlay\",\"size\":10,\"solidity\":0.2}},\"type\":\"barpolar\"}],\"bar\":[{\"error_x\":{\"color\":\"rgb(36,36,36)\"},\"error_y\":{\"color\":\"rgb(36,36,36)\"},\"marker\":{\"line\":{\"color\":\"rgb(234,234,242)\",\"width\":0.5},\"pattern\":{\"fillmode\":\"overlay\",\"size\":10,\"solidity\":0.2}},\"type\":\"bar\"}],\"carpet\":[{\"aaxis\":{\"endlinecolor\":\"rgb(36,36,36)\",\"gridcolor\":\"white\",\"linecolor\":\"white\",\"minorgridcolor\":\"white\",\"startlinecolor\":\"rgb(36,36,36)\"},\"baxis\":{\"endlinecolor\":\"rgb(36,36,36)\",\"gridcolor\":\"white\",\"linecolor\":\"white\",\"minorgridcolor\":\"white\",\"startlinecolor\":\"rgb(36,36,36)\"},\"type\":\"carpet\"}],\"choropleth\":[{\"colorbar\":{\"outlinewidth\":0,\"tickcolor\":\"rgb(36,36,36)\",\"ticklen\":8,\"ticks\":\"outside\",\"tickwidth\":2},\"type\":\"choropleth\"}],\"contourcarpet\":[{\"colorbar\":{\"outlinewidth\":0,\"tickcolor\":\"rgb(36,36,36)\",\"ticklen\":8,\"ticks\":\"outside\",\"tickwidth\":2},\"type\":\"contourcarpet\"}],\"contour\":[{\"colorbar\":{\"outlinewidth\":0,\"tickcolor\":\"rgb(36,36,36)\",\"ticklen\":8,\"ticks\":\"outside\",\"tickwidth\":2},\"colorscale\":[[0.0,\"rgb(2,4,25)\"],[0.06274509803921569,\"rgb(24,15,41)\"],[0.12549019607843137,\"rgb(47,23,57)\"],[0.18823529411764706,\"rgb(71,28,72)\"],[0.25098039215686274,\"rgb(97,30,82)\"],[0.3137254901960784,\"rgb(123,30,89)\"],[0.3764705882352941,\"rgb(150,27,91)\"],[0.4392156862745098,\"rgb(177,22,88)\"],[0.5019607843137255,\"rgb(203,26,79)\"],[0.5647058823529412,\"rgb(223,47,67)\"],[0.6274509803921569,\"rgb(236,76,61)\"],[0.6901960784313725,\"rgb(242,107,73)\"],[0.7529411764705882,\"rgb(244,135,95)\"],[0.8156862745098039,\"rgb(245,162,122)\"],[0.8784313725490196,\"rgb(246,188,153)\"],[0.9411764705882353,\"rgb(247,212,187)\"],[1.0,\"rgb(250,234,220)\"]],\"type\":\"contour\"}],\"heatmapgl\":[{\"colorbar\":{\"outlinewidth\":0,\"tickcolor\":\"rgb(36,36,36)\",\"ticklen\":8,\"ticks\":\"outside\",\"tickwidth\":2},\"colorscale\":[[0.0,\"rgb(2,4,25)\"],[0.06274509803921569,\"rgb(24,15,41)\"],[0.12549019607843137,\"rgb(47,23,57)\"],[0.18823529411764706,\"rgb(71,28,72)\"],[0.25098039215686274,\"rgb(97,30,82)\"],[0.3137254901960784,\"rgb(123,30,89)\"],[0.3764705882352941,\"rgb(150,27,91)\"],[0.4392156862745098,\"rgb(177,22,88)\"],[0.5019607843137255,\"rgb(203,26,79)\"],[0.5647058823529412,\"rgb(223,47,67)\"],[0.6274509803921569,\"rgb(236,76,61)\"],[0.6901960784313725,\"rgb(242,107,73)\"],[0.7529411764705882,\"rgb(244,135,95)\"],[0.8156862745098039,\"rgb(245,162,122)\"],[0.8784313725490196,\"rgb(246,188,153)\"],[0.9411764705882353,\"rgb(247,212,187)\"],[1.0,\"rgb(250,234,220)\"]],\"type\":\"heatmapgl\"}],\"heatmap\":[{\"colorbar\":{\"outlinewidth\":0,\"tickcolor\":\"rgb(36,36,36)\",\"ticklen\":8,\"ticks\":\"outside\",\"tickwidth\":2},\"colorscale\":[[0.0,\"rgb(2,4,25)\"],[0.06274509803921569,\"rgb(24,15,41)\"],[0.12549019607843137,\"rgb(47,23,57)\"],[0.18823529411764706,\"rgb(71,28,72)\"],[0.25098039215686274,\"rgb(97,30,82)\"],[0.3137254901960784,\"rgb(123,30,89)\"],[0.3764705882352941,\"rgb(150,27,91)\"],[0.4392156862745098,\"rgb(177,22,88)\"],[0.5019607843137255,\"rgb(203,26,79)\"],[0.5647058823529412,\"rgb(223,47,67)\"],[0.6274509803921569,\"rgb(236,76,61)\"],[0.6901960784313725,\"rgb(242,107,73)\"],[0.7529411764705882,\"rgb(244,135,95)\"],[0.8156862745098039,\"rgb(245,162,122)\"],[0.8784313725490196,\"rgb(246,188,153)\"],[0.9411764705882353,\"rgb(247,212,187)\"],[1.0,\"rgb(250,234,220)\"]],\"type\":\"heatmap\"}],\"histogram2dcontour\":[{\"colorbar\":{\"outlinewidth\":0,\"tickcolor\":\"rgb(36,36,36)\",\"ticklen\":8,\"ticks\":\"outside\",\"tickwidth\":2},\"colorscale\":[[0.0,\"rgb(2,4,25)\"],[0.06274509803921569,\"rgb(24,15,41)\"],[0.12549019607843137,\"rgb(47,23,57)\"],[0.18823529411764706,\"rgb(71,28,72)\"],[0.25098039215686274,\"rgb(97,30,82)\"],[0.3137254901960784,\"rgb(123,30,89)\"],[0.3764705882352941,\"rgb(150,27,91)\"],[0.4392156862745098,\"rgb(177,22,88)\"],[0.5019607843137255,\"rgb(203,26,79)\"],[0.5647058823529412,\"rgb(223,47,67)\"],[0.6274509803921569,\"rgb(236,76,61)\"],[0.6901960784313725,\"rgb(242,107,73)\"],[0.7529411764705882,\"rgb(244,135,95)\"],[0.8156862745098039,\"rgb(245,162,122)\"],[0.8784313725490196,\"rgb(246,188,153)\"],[0.9411764705882353,\"rgb(247,212,187)\"],[1.0,\"rgb(250,234,220)\"]],\"type\":\"histogram2dcontour\"}],\"histogram2d\":[{\"colorbar\":{\"outlinewidth\":0,\"tickcolor\":\"rgb(36,36,36)\",\"ticklen\":8,\"ticks\":\"outside\",\"tickwidth\":2},\"colorscale\":[[0.0,\"rgb(2,4,25)\"],[0.06274509803921569,\"rgb(24,15,41)\"],[0.12549019607843137,\"rgb(47,23,57)\"],[0.18823529411764706,\"rgb(71,28,72)\"],[0.25098039215686274,\"rgb(97,30,82)\"],[0.3137254901960784,\"rgb(123,30,89)\"],[0.3764705882352941,\"rgb(150,27,91)\"],[0.4392156862745098,\"rgb(177,22,88)\"],[0.5019607843137255,\"rgb(203,26,79)\"],[0.5647058823529412,\"rgb(223,47,67)\"],[0.6274509803921569,\"rgb(236,76,61)\"],[0.6901960784313725,\"rgb(242,107,73)\"],[0.7529411764705882,\"rgb(244,135,95)\"],[0.8156862745098039,\"rgb(245,162,122)\"],[0.8784313725490196,\"rgb(246,188,153)\"],[0.9411764705882353,\"rgb(247,212,187)\"],[1.0,\"rgb(250,234,220)\"]],\"type\":\"histogram2d\"}],\"histogram\":[{\"marker\":{\"pattern\":{\"fillmode\":\"overlay\",\"size\":10,\"solidity\":0.2}},\"type\":\"histogram\"}],\"mesh3d\":[{\"colorbar\":{\"outlinewidth\":0,\"tickcolor\":\"rgb(36,36,36)\",\"ticklen\":8,\"ticks\":\"outside\",\"tickwidth\":2},\"type\":\"mesh3d\"}],\"parcoords\":[{\"line\":{\"colorbar\":{\"outlinewidth\":0,\"tickcolor\":\"rgb(36,36,36)\",\"ticklen\":8,\"ticks\":\"outside\",\"tickwidth\":2}},\"type\":\"parcoords\"}],\"pie\":[{\"automargin\":true,\"type\":\"pie\"}],\"scatter3d\":[{\"line\":{\"colorbar\":{\"outlinewidth\":0,\"tickcolor\":\"rgb(36,36,36)\",\"ticklen\":8,\"ticks\":\"outside\",\"tickwidth\":2}},\"marker\":{\"colorbar\":{\"outlinewidth\":0,\"tickcolor\":\"rgb(36,36,36)\",\"ticklen\":8,\"ticks\":\"outside\",\"tickwidth\":2}},\"type\":\"scatter3d\"}],\"scattercarpet\":[{\"marker\":{\"colorbar\":{\"outlinewidth\":0,\"tickcolor\":\"rgb(36,36,36)\",\"ticklen\":8,\"ticks\":\"outside\",\"tickwidth\":2}},\"type\":\"scattercarpet\"}],\"scattergeo\":[{\"marker\":{\"colorbar\":{\"outlinewidth\":0,\"tickcolor\":\"rgb(36,36,36)\",\"ticklen\":8,\"ticks\":\"outside\",\"tickwidth\":2}},\"type\":\"scattergeo\"}],\"scattergl\":[{\"marker\":{\"colorbar\":{\"outlinewidth\":0,\"tickcolor\":\"rgb(36,36,36)\",\"ticklen\":8,\"ticks\":\"outside\",\"tickwidth\":2}},\"type\":\"scattergl\"}],\"scattermapbox\":[{\"marker\":{\"colorbar\":{\"outlinewidth\":0,\"tickcolor\":\"rgb(36,36,36)\",\"ticklen\":8,\"ticks\":\"outside\",\"tickwidth\":2}},\"type\":\"scattermapbox\"}],\"scatterpolargl\":[{\"marker\":{\"colorbar\":{\"outlinewidth\":0,\"tickcolor\":\"rgb(36,36,36)\",\"ticklen\":8,\"ticks\":\"outside\",\"tickwidth\":2}},\"type\":\"scatterpolargl\"}],\"scatterpolar\":[{\"marker\":{\"colorbar\":{\"outlinewidth\":0,\"tickcolor\":\"rgb(36,36,36)\",\"ticklen\":8,\"ticks\":\"outside\",\"tickwidth\":2}},\"type\":\"scatterpolar\"}],\"scatter\":[{\"fillpattern\":{\"fillmode\":\"overlay\",\"size\":10,\"solidity\":0.2},\"type\":\"scatter\"}],\"scatterternary\":[{\"marker\":{\"colorbar\":{\"outlinewidth\":0,\"tickcolor\":\"rgb(36,36,36)\",\"ticklen\":8,\"ticks\":\"outside\",\"tickwidth\":2}},\"type\":\"scatterternary\"}],\"surface\":[{\"colorbar\":{\"outlinewidth\":0,\"tickcolor\":\"rgb(36,36,36)\",\"ticklen\":8,\"ticks\":\"outside\",\"tickwidth\":2},\"colorscale\":[[0.0,\"rgb(2,4,25)\"],[0.06274509803921569,\"rgb(24,15,41)\"],[0.12549019607843137,\"rgb(47,23,57)\"],[0.18823529411764706,\"rgb(71,28,72)\"],[0.25098039215686274,\"rgb(97,30,82)\"],[0.3137254901960784,\"rgb(123,30,89)\"],[0.3764705882352941,\"rgb(150,27,91)\"],[0.4392156862745098,\"rgb(177,22,88)\"],[0.5019607843137255,\"rgb(203,26,79)\"],[0.5647058823529412,\"rgb(223,47,67)\"],[0.6274509803921569,\"rgb(236,76,61)\"],[0.6901960784313725,\"rgb(242,107,73)\"],[0.7529411764705882,\"rgb(244,135,95)\"],[0.8156862745098039,\"rgb(245,162,122)\"],[0.8784313725490196,\"rgb(246,188,153)\"],[0.9411764705882353,\"rgb(247,212,187)\"],[1.0,\"rgb(250,234,220)\"]],\"type\":\"surface\"}],\"table\":[{\"cells\":{\"fill\":{\"color\":\"rgb(231,231,240)\"},\"line\":{\"color\":\"white\"}},\"header\":{\"fill\":{\"color\":\"rgb(183,183,191)\"},\"line\":{\"color\":\"white\"}},\"type\":\"table\"}]},\"layout\":{\"annotationdefaults\":{\"arrowcolor\":\"rgb(67,103,167)\"},\"autotypenumbers\":\"strict\",\"coloraxis\":{\"colorbar\":{\"outlinewidth\":0,\"tickcolor\":\"rgb(36,36,36)\",\"ticklen\":8,\"ticks\":\"outside\",\"tickwidth\":2}},\"colorscale\":{\"sequential\":[[0.0,\"rgb(2,4,25)\"],[0.06274509803921569,\"rgb(24,15,41)\"],[0.12549019607843137,\"rgb(47,23,57)\"],[0.18823529411764706,\"rgb(71,28,72)\"],[0.25098039215686274,\"rgb(97,30,82)\"],[0.3137254901960784,\"rgb(123,30,89)\"],[0.3764705882352941,\"rgb(150,27,91)\"],[0.4392156862745098,\"rgb(177,22,88)\"],[0.5019607843137255,\"rgb(203,26,79)\"],[0.5647058823529412,\"rgb(223,47,67)\"],[0.6274509803921569,\"rgb(236,76,61)\"],[0.6901960784313725,\"rgb(242,107,73)\"],[0.7529411764705882,\"rgb(244,135,95)\"],[0.8156862745098039,\"rgb(245,162,122)\"],[0.8784313725490196,\"rgb(246,188,153)\"],[0.9411764705882353,\"rgb(247,212,187)\"],[1.0,\"rgb(250,234,220)\"]],\"sequentialminus\":[[0.0,\"rgb(2,4,25)\"],[0.06274509803921569,\"rgb(24,15,41)\"],[0.12549019607843137,\"rgb(47,23,57)\"],[0.18823529411764706,\"rgb(71,28,72)\"],[0.25098039215686274,\"rgb(97,30,82)\"],[0.3137254901960784,\"rgb(123,30,89)\"],[0.3764705882352941,\"rgb(150,27,91)\"],[0.4392156862745098,\"rgb(177,22,88)\"],[0.5019607843137255,\"rgb(203,26,79)\"],[0.5647058823529412,\"rgb(223,47,67)\"],[0.6274509803921569,\"rgb(236,76,61)\"],[0.6901960784313725,\"rgb(242,107,73)\"],[0.7529411764705882,\"rgb(244,135,95)\"],[0.8156862745098039,\"rgb(245,162,122)\"],[0.8784313725490196,\"rgb(246,188,153)\"],[0.9411764705882353,\"rgb(247,212,187)\"],[1.0,\"rgb(250,234,220)\"]]},\"colorway\":[\"rgb(76,114,176)\",\"rgb(221,132,82)\",\"rgb(85,168,104)\",\"rgb(196,78,82)\",\"rgb(129,114,179)\",\"rgb(147,120,96)\",\"rgb(218,139,195)\",\"rgb(140,140,140)\",\"rgb(204,185,116)\",\"rgb(100,181,205)\"],\"font\":{\"color\":\"rgb(36,36,36)\"},\"geo\":{\"bgcolor\":\"white\",\"lakecolor\":\"white\",\"landcolor\":\"rgb(234,234,242)\",\"showlakes\":true,\"showland\":true,\"subunitcolor\":\"white\"},\"hoverlabel\":{\"align\":\"left\"},\"hovermode\":\"closest\",\"paper_bgcolor\":\"white\",\"plot_bgcolor\":\"rgb(234,234,242)\",\"polar\":{\"angularaxis\":{\"gridcolor\":\"white\",\"linecolor\":\"white\",\"showgrid\":true,\"ticks\":\"\"},\"bgcolor\":\"rgb(234,234,242)\",\"radialaxis\":{\"gridcolor\":\"white\",\"linecolor\":\"white\",\"showgrid\":true,\"ticks\":\"\"}},\"scene\":{\"xaxis\":{\"backgroundcolor\":\"rgb(234,234,242)\",\"gridcolor\":\"white\",\"gridwidth\":2,\"linecolor\":\"white\",\"showbackground\":true,\"showgrid\":true,\"ticks\":\"\",\"zerolinecolor\":\"white\"},\"yaxis\":{\"backgroundcolor\":\"rgb(234,234,242)\",\"gridcolor\":\"white\",\"gridwidth\":2,\"linecolor\":\"white\",\"showbackground\":true,\"showgrid\":true,\"ticks\":\"\",\"zerolinecolor\":\"white\"},\"zaxis\":{\"backgroundcolor\":\"rgb(234,234,242)\",\"gridcolor\":\"white\",\"gridwidth\":2,\"linecolor\":\"white\",\"showbackground\":true,\"showgrid\":true,\"ticks\":\"\",\"zerolinecolor\":\"white\"}},\"shapedefaults\":{\"fillcolor\":\"rgb(67,103,167)\",\"line\":{\"width\":0},\"opacity\":0.5},\"ternary\":{\"aaxis\":{\"gridcolor\":\"white\",\"linecolor\":\"white\",\"showgrid\":true,\"ticks\":\"\"},\"baxis\":{\"gridcolor\":\"white\",\"linecolor\":\"white\",\"showgrid\":true,\"ticks\":\"\"},\"bgcolor\":\"rgb(234,234,242)\",\"caxis\":{\"gridcolor\":\"white\",\"linecolor\":\"white\",\"showgrid\":true,\"ticks\":\"\"}},\"xaxis\":{\"automargin\":true,\"gridcolor\":\"white\",\"linecolor\":\"white\",\"showgrid\":true,\"ticks\":\"\",\"title\":{\"standoff\":15},\"zerolinecolor\":\"white\"},\"yaxis\":{\"automargin\":true,\"gridcolor\":\"white\",\"linecolor\":\"white\",\"showgrid\":true,\"ticks\":\"\",\"title\":{\"standoff\":15},\"zerolinecolor\":\"white\"}}}}},\"xaxis\":{\"anchor\":\"y\",\"domain\":[0.0,0.103125],\"title\":{\"text\":\"XGBC__gamma\"},\"type\":\"log\"},\"yaxis\":{\"anchor\":\"x\",\"domain\":[0.0,1.0],\"title\":{\"text\":\"Objective Value\"}},\"xaxis2\":{\"anchor\":\"y2\",\"domain\":[0.128125,0.23124999999999998],\"title\":{\"text\":\"XGBC__lambda\"},\"type\":\"log\"},\"yaxis2\":{\"anchor\":\"x2\",\"domain\":[0.0,1.0],\"matches\":\"y\",\"showticklabels\":false},\"xaxis3\":{\"anchor\":\"y3\",\"domain\":[0.25625,0.359375],\"title\":{\"text\":\"XGBC__learning_rate\"}},\"yaxis3\":{\"anchor\":\"x3\",\"domain\":[0.0,1.0],\"matches\":\"y\",\"showticklabels\":false},\"xaxis4\":{\"anchor\":\"y4\",\"domain\":[0.38437499999999997,0.48749999999999993],\"title\":{\"text\":\"XGBC__max_depth\"}},\"yaxis4\":{\"anchor\":\"x4\",\"domain\":[0.0,1.0],\"matches\":\"y\",\"showticklabels\":false},\"xaxis5\":{\"anchor\":\"y5\",\"domain\":[0.5125,0.615625],\"title\":{\"text\":\"XGBC__min_child_weight\"},\"type\":\"log\"},\"yaxis5\":{\"anchor\":\"x5\",\"domain\":[0.0,1.0],\"matches\":\"y\",\"showticklabels\":false},\"xaxis6\":{\"anchor\":\"y6\",\"domain\":[0.640625,0.74375],\"title\":{\"text\":\"XGBC__n_estimators\"},\"type\":\"log\"},\"yaxis6\":{\"anchor\":\"x6\",\"domain\":[0.0,1.0],\"matches\":\"y\",\"showticklabels\":false},\"xaxis7\":{\"anchor\":\"y7\",\"domain\":[0.76875,0.8718750000000001],\"title\":{\"text\":\"XGBC__scale_pos_weight\"}},\"yaxis7\":{\"anchor\":\"x7\",\"domain\":[0.0,1.0],\"matches\":\"y\",\"showticklabels\":false},\"xaxis8\":{\"anchor\":\"y8\",\"domain\":[0.8968750000000001,1.0],\"title\":{\"text\":\"XGBC__subsample\"}},\"yaxis8\":{\"anchor\":\"x8\",\"domain\":[0.0,1.0],\"matches\":\"y\",\"showticklabels\":false},\"title\":{\"text\":\"XGBClassifier\",\"x\":0},\"width\":2400,\"font\":{\"size\":10}},                        {\"responsive\": true}                    ).then(function(){\n",
       "                            \n",
       "var gd = document.getElementById('883472d8-1abe-447f-b99b-cecb3c72b9b3');\n",
       "var x = new MutationObserver(function (mutations, observer) {{\n",
       "        var display = window.getComputedStyle(gd).display;\n",
       "        if (!display || display === 'none') {{\n",
       "            console.log([gd, 'removed!']);\n",
       "            Plotly.purge(gd);\n",
       "            observer.disconnect();\n",
       "        }}\n",
       "}});\n",
       "\n",
       "// Listen for the removal of the full notebook cells\n",
       "var notebookContainer = gd.closest('#notebook-container');\n",
       "if (notebookContainer) {{\n",
       "    x.observe(notebookContainer, {childList: true});\n",
       "}}\n",
       "\n",
       "// Listen for the clearing of the current output cell\n",
       "var outputEl = gd.closest('.output');\n",
       "if (outputEl) {{\n",
       "    x.observe(outputEl, {childList: true});\n",
       "}}\n",
       "\n",
       "                        })                };                });            </script>        </div>"
      ]
     },
     "metadata": {},
     "output_type": "display_data"
    }
   ],
   "source": [
    "for item in range(models.shape[0]):\n",
    "    plot_Optuna(models.loc[item,'study'], 'plot_slice', models.loc[item, 'name'])\n",
    "#     plot_Optuna(models.loc[item,'study'], 'plot_param_importances', models.loc[item, 'name'])     # может работать долго !\n",
    "#     plot_Optuna(models.loc[item,'study'], 'plot_optimization_history', models.loc[item, 'name'])"
   ]
  },
  {
   "cell_type": "markdown",
   "id": "46a25b89",
   "metadata": {},
   "source": [
    "## Results"
   ]
  },
  {
   "cell_type": "markdown",
   "id": "06bad396",
   "metadata": {},
   "source": [
    "### Выбор лучшей модели\n",
    "\n",
    "XGBClassifier"
   ]
  },
  {
   "cell_type": "code",
   "execution_count": 101,
   "id": "889118d3",
   "metadata": {},
   "outputs": [],
   "source": [
    "# выбор модели из таблицы\n",
    "\n",
    "BEST_MODEL_NAME = 'XGBClassifier'\n",
    "model = models.model.values[models.name == BEST_MODEL_NAME][0]"
   ]
  },
  {
   "cell_type": "markdown",
   "id": "5608cc2b",
   "metadata": {},
   "source": [
    "### Важность признаков"
   ]
  },
  {
   "cell_type": "code",
   "execution_count": 102,
   "id": "f93da5c6",
   "metadata": {},
   "outputs": [
    {
     "data": {
      "image/png": "[encoded data removed]",
      "text/plain": [
       "<Figure size 2250x750 with 1 Axes>"
      ]
     },
     "metadata": {},
     "output_type": "display_data"
    },
    {
     "data": {
      "image/png": "[encoded data removed]",
      "text/plain": [
       "<Figure size 2250x750 with 1 Axes>"
      ]
     },
     "metadata": {},
     "output_type": "display_data"
    }
   ],
   "source": [
    "# permutation importance for train\n",
    "plot_feature_importances(\n",
    "                         'Permutation importance for train',\n",
    "                         # извлечение списка признаков\n",
    "                         model.feature_names_in_,\n",
    "                         # вычисление важности признаков\n",
    "                         permutation_importance(model,\n",
    "                                                X_train, Y_train,\n",
    "                                                scoring=SCORING, n_repeats=5, n_jobs=-1, random_state=RS)\n",
    "                        )\n",
    "\n",
    "# permutation importance for valid\n",
    "plot_feature_importances(\n",
    "                         'Permutation importance for valid',\n",
    "                         # извлечение списка признаков\n",
    "                         model.feature_names_in_,\n",
    "                         # вычисление важности признаков\n",
    "                         permutation_importance(model,\n",
    "                                                X_valid, Y_valid,\n",
    "                                                scoring=SCORING, n_repeats=5, n_jobs=-1, random_state=RS)\n",
    "                        )"
   ]
  },
  {
   "cell_type": "markdown",
   "id": "5936e9ee",
   "metadata": {},
   "source": [
    "### Additional metrics"
   ]
  },
  {
   "cell_type": "code",
   "execution_count": 103,
   "id": "0d888084",
   "metadata": {},
   "outputs": [
    {
     "data": {
      "text/html": [
       "<div>\n",
       "<style scoped>\n",
       "    .dataframe tbody tr th:only-of-type {\n",
       "        vertical-align: middle;\n",
       "    }\n",
       "\n",
       "    .dataframe tbody tr th {\n",
       "        vertical-align: top;\n",
       "    }\n",
       "\n",
       "    .dataframe thead th {\n",
       "        text-align: right;\n",
       "    }\n",
       "</style>\n",
       "<table border=\"1\" class=\"dataframe\">\n",
       "  <thead>\n",
       "    <tr style=\"text-align: left;\">\n",
       "      <th></th>\n",
       "      <th>name</th>\n",
       "      <th>roc_auc_train</th>\n",
       "      <th>roc_auc_valid</th>\n",
       "      <th>f1_train</th>\n",
       "      <th>f1_valid</th>\n",
       "      <th>accuracy_train</th>\n",
       "      <th>accuracy_valid</th>\n",
       "      <th>ROC_AUC</th>\n",
       "      <th>matthews_coeff</th>\n",
       "      <th>cohen_kappa</th>\n",
       "    </tr>\n",
       "  </thead>\n",
       "  <tbody>\n",
       "    <tr>\n",
       "      <th>0</th>\n",
       "      <td>XGBClassifier</td>\n",
       "      <td>0.875</td>\n",
       "      <td>0.869</td>\n",
       "      <td>0.718</td>\n",
       "      <td>0.715</td>\n",
       "      <td>0.767</td>\n",
       "      <td>0.764</td>\n",
       "      <td>0.875</td>\n",
       "      <td>0.561</td>\n",
       "      <td>0.533</td>\n",
       "    </tr>\n",
       "  </tbody>\n",
       "</table>\n",
       "</div>"
      ],
      "text/plain": [
       "  name            roc_auc_train  roc_auc_valid  f1_train  f1_valid  \\\n",
       "0  XGBClassifier 0.875          0.869          0.718     0.715       \n",
       "\n",
       "   accuracy_train  accuracy_valid  ROC_AUC  matthews_coeff  cohen_kappa  \n",
       "0 0.767           0.764           0.875    0.561           0.533         "
      ]
     },
     "execution_count": 103,
     "metadata": {},
     "output_type": "execute_result"
    }
   ],
   "source": [
    "# дополнительные метрики моделей\n",
    "models = add_model_metrics(models, X_train, Y_train, X_valid, Y_valid, cv=5, scoring_list=['roc_auc','f1','accuracy'])\n",
    "\n",
    "models.drop(['short_name','model','study','best_params'], axis=1)"
   ]
  },
  {
   "cell_type": "markdown",
   "id": "fcfab7d8",
   "metadata": {},
   "source": [
    "### Save models parameters and metrics"
   ]
  },
  {
   "cell_type": "code",
   "execution_count": 104,
   "id": "b291599f",
   "metadata": {},
   "outputs": [],
   "source": [
    "# # запись в файл\n",
    "# models.to_excel('C:\\\\Users\\\\Admin\\\\Desktop\\\\DS studies\\\\Data\\\\Heart diseases\\\\PROJECT\\\\For work\\\\models{datetime.now().strftime(\"date_%Y-%m-%d time_%H-%M\")}score_{study.best_value:0.4f}.xlsx',sheet_name='best params', index=False)"
   ]
  },
  {
   "cell_type": "code",
   "execution_count": 105,
   "id": "d739244c",
   "metadata": {},
   "outputs": [],
   "source": [
    "models.to_excel('C:\\\\Users\\\\Admin\\\\Desktop\\\\DS studies\\\\Data\\\\Heart diseases\\\\PROJECT\\\\For work\\\\models.xlsx')"
   ]
  },
  {
   "cell_type": "code",
   "execution_count": 106,
   "id": "d93d03f5",
   "metadata": {},
   "outputs": [],
   "source": [
    "models.to_csv('C:\\\\Users\\\\Admin\\\\Desktop\\\\DS studies\\\\Data\\\\Heart diseases\\\\PROJECT\\\\For work\\\\models.csv')"
   ]
  },
  {
   "cell_type": "markdown",
   "id": "39530712",
   "metadata": {},
   "source": [
    "## Подготовка прогноза для участия в соревновании"
   ]
  },
  {
   "cell_type": "code",
   "execution_count": 107,
   "id": "4dc83d45",
   "metadata": {},
   "outputs": [],
   "source": [
    "data_pred = data_test[['id']].copy()"
   ]
  },
  {
   "cell_type": "code",
   "execution_count": 108,
   "id": "a60f7d67",
   "metadata": {},
   "outputs": [],
   "source": [
    "# обучение модели на полном наборе данных и прогноз модели (вероятность)\n",
    "data_pred['cardio'] = model.fit(X,Y).predict_proba(data_test)[:,1]"
   ]
  },
  {
   "cell_type": "code",
   "execution_count": 109,
   "id": "1af558f2",
   "metadata": {},
   "outputs": [
    {
     "data": {
      "image/png": "[encoded data removed]",
      "text/plain": [
       "<Figure size 2250x450 with 1 Axes>"
      ]
     },
     "metadata": {},
     "output_type": "display_data"
    }
   ],
   "source": [
    "fig, ax = plt.subplots(figsize=(15,3), dpi=PLOT_DPI)\n",
    "sns.histplot(x=data_pred.cardio, bins=40);"
   ]
  },
  {
   "cell_type": "code",
   "execution_count": 110,
   "id": "51c1a78d",
   "metadata": {},
   "outputs": [
    {
     "data": {
      "text/plain": [
       "(-0.000558, 0.253]    15000\n",
       "(0.253, 1.0]          15000\n",
       "Name: cardio, dtype: int64"
      ]
     },
     "execution_count": 110,
     "metadata": {},
     "output_type": "execute_result"
    }
   ],
   "source": [
    "pd.qcut(data_pred.cardio, q=2).value_counts()"
   ]
  },
  {
   "cell_type": "code",
   "execution_count": 111,
   "id": "ff1046f5",
   "metadata": {},
   "outputs": [],
   "source": [
    "# запись в файл\n",
    "data_pred[['id','cardio']].to_csv(\n",
    "    'C:\\\\Users\\\\Admin\\\\Desktop\\\\DS studies\\\\Data\\\\Heart diseases\\\\PROJECT\\\\For work\\\\Result.csv',\n",
    "                      index=False,\n",
    ")"
   ]
  },
  {
   "cell_type": "code",
   "execution_count": 112,
   "id": "5d9de939",
   "metadata": {},
   "outputs": [
    {
     "data": {
      "text/html": [
       "<div>\n",
       "<style scoped>\n",
       "    .dataframe tbody tr th:only-of-type {\n",
       "        vertical-align: middle;\n",
       "    }\n",
       "\n",
       "    .dataframe tbody tr th {\n",
       "        vertical-align: top;\n",
       "    }\n",
       "\n",
       "    .dataframe thead th {\n",
       "        text-align: right;\n",
       "    }\n",
       "</style>\n",
       "<table border=\"1\" class=\"dataframe\">\n",
       "  <thead>\n",
       "    <tr style=\"text-align: left;\">\n",
       "      <th></th>\n",
       "      <th>id</th>\n",
       "      <th>cardio</th>\n",
       "    </tr>\n",
       "  </thead>\n",
       "  <tbody>\n",
       "    <tr>\n",
       "      <th>0</th>\n",
       "      <td>5</td>\n",
       "      <td>0.245</td>\n",
       "    </tr>\n",
       "    <tr>\n",
       "      <th>1</th>\n",
       "      <td>6</td>\n",
       "      <td>0.345</td>\n",
       "    </tr>\n",
       "    <tr>\n",
       "      <th>2</th>\n",
       "      <td>7</td>\n",
       "      <td>0.248</td>\n",
       "    </tr>\n",
       "    <tr>\n",
       "      <th>3</th>\n",
       "      <td>10</td>\n",
       "      <td>0.001</td>\n",
       "    </tr>\n",
       "    <tr>\n",
       "      <th>4</th>\n",
       "      <td>11</td>\n",
       "      <td>0.085</td>\n",
       "    </tr>\n",
       "    <tr>\n",
       "      <th>...</th>\n",
       "      <td>...</td>\n",
       "      <td>...</td>\n",
       "    </tr>\n",
       "    <tr>\n",
       "      <th>29995</th>\n",
       "      <td>99984</td>\n",
       "      <td>0.898</td>\n",
       "    </tr>\n",
       "    <tr>\n",
       "      <th>29996</th>\n",
       "      <td>99987</td>\n",
       "      <td>0.049</td>\n",
       "    </tr>\n",
       "    <tr>\n",
       "      <th>29997</th>\n",
       "      <td>99989</td>\n",
       "      <td>0.290</td>\n",
       "    </tr>\n",
       "    <tr>\n",
       "      <th>29998</th>\n",
       "      <td>99994</td>\n",
       "      <td>0.251</td>\n",
       "    </tr>\n",
       "    <tr>\n",
       "      <th>29999</th>\n",
       "      <td>99997</td>\n",
       "      <td>0.001</td>\n",
       "    </tr>\n",
       "  </tbody>\n",
       "</table>\n",
       "<p>30000 rows × 2 columns</p>\n",
       "</div>"
      ],
      "text/plain": [
       "       id     cardio\n",
       "0          5 0.245  \n",
       "1          6 0.345  \n",
       "2          7 0.248  \n",
       "3         10 0.001  \n",
       "4         11 0.085  \n",
       "...      ...     ...\n",
       "29995  99984 0.898  \n",
       "29996  99987 0.049  \n",
       "29997  99989 0.290  \n",
       "29998  99994 0.251  \n",
       "29999  99997 0.001  \n",
       "\n",
       "[30000 rows x 2 columns]"
      ]
     },
     "execution_count": 112,
     "metadata": {},
     "output_type": "execute_result"
    }
   ],
   "source": [
    "data_pred"
   ]
  },
  {
   "cell_type": "code",
   "execution_count": null,
   "id": "a0f2ac51",
   "metadata": {},
   "outputs": [],
   "source": []
  }
 ],
 "metadata": {
  "kernelspec": {
   "display_name": "Python 3 (ipykernel)",
   "language": "python",
   "name": "python3"
  },
  "language_info": {
   "codemirror_mode": {
    "name": "ipython",
    "version": 3
   },
   "file_extension": ".py",
   "mimetype": "text/x-python",
   "name": "python",
   "nbconvert_exporter": "python",
   "pygments_lexer": "ipython3",
   "version": "3.9.13"
  }
 },
 "nbformat": 4,
 "nbformat_minor": 5
}
